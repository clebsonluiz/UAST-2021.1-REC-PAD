{
 "cells": [
  {
   "cell_type": "markdown",
   "id": "50776575",
   "metadata": {},
   "source": [
    "# Imports"
   ]
  },
  {
   "cell_type": "code",
   "execution_count": null,
   "id": "ab351647",
   "metadata": {},
   "outputs": [],
   "source": [
    "import pandas as pd \n",
    "import numpy as np"
   ]
  },
  {
   "cell_type": "markdown",
   "id": "2247e271",
   "metadata": {},
   "source": [
    "### Base com atributos numéricos"
   ]
  },
  {
   "cell_type": "code",
   "execution_count": null,
   "id": "13e3052c",
   "metadata": {},
   "outputs": [],
   "source": [
    "# Base tirada de https://archive.ics.uci.edu/ml/datasets/Ecoli\n",
    "\n",
    "ecoli = pd.read_csv('databases/ecoli.csv',\n",
    "                      header=None, \n",
    "                      names=[\n",
    "                        \"Sequence Name\",\n",
    "                        \"mcg\",\n",
    "                        \"gvh\",\n",
    "                        \"lip\",\n",
    "                        \"chg\",\n",
    "                        \"aac\",\n",
    "                        \"alm1\",\n",
    "                        \"alm2\",\n",
    "                        \"Class\"\n",
    "                      ])\n",
    "\n",
    "# Substituindo a string de pendência para valores compreenciveis\n",
    "# ecoli = ecoli.replace({\n",
    "\n",
    "# })\n",
    "\n",
    "ecoli"
   ]
  },
  {
   "cell_type": "code",
   "execution_count": null,
   "id": "9911c871",
   "metadata": {},
   "outputs": [],
   "source": [
    "# ecoli.describe()"
   ]
  },
  {
   "cell_type": "code",
   "execution_count": null,
   "id": "8f1fab8e",
   "metadata": {},
   "outputs": [],
   "source": [
    "# ecoli.dtypes"
   ]
  },
  {
   "cell_type": "markdown",
   "id": "b1fc27b5",
   "metadata": {},
   "source": [
    "## Pré-Processamento Inicial"
   ]
  },
  {
   "cell_type": "markdown",
   "id": "cfc3f947",
   "metadata": {},
   "source": [
    "##### Deletando a coluna 'Sequence Name'"
   ]
  },
  {
   "cell_type": "code",
   "execution_count": null,
   "id": "a1115bd4",
   "metadata": {},
   "outputs": [],
   "source": [
    "# A coluna em questão é uma coluna de ID de busca, logo não é necessária para o que será feito no trabalho\n",
    "if ecoli.get(\"Sequence Name\") is not None:\n",
    "    del ecoli[\"Sequence Name\"]\n",
    "\n",
    "ecoli.dtypes"
   ]
  },
  {
   "cell_type": "code",
   "execution_count": null,
   "id": "8479d6cb",
   "metadata": {},
   "outputs": [],
   "source": [
    "from sklearn.preprocessing import StandardScaler\n",
    "\n",
    "atributos = [           \n",
    "    \"mcg\",\n",
    "    \"gvh\",\n",
    "    \"lip\",\n",
    "    \"chg\",\n",
    "    \"aac\",\n",
    "    \"alm1\",\n",
    "    \"alm2\",\n",
    "    ]\n",
    "\n",
    "ecoli[atributos] = StandardScaler().fit_transform(ecoli[atributos])\n",
    "#ecoli = pd.DataFrame(balance)\n",
    "\n",
    "limiar = 7\n",
    "\n",
    "ecoli"
   ]
  },
  {
   "cell_type": "markdown",
   "id": "a432d8e9",
   "metadata": {},
   "source": [
    "## Aprendizagem supervisionada\n",
    "##### Selecionando o X e y"
   ]
  },
  {
   "cell_type": "code",
   "execution_count": null,
   "id": "c5741423",
   "metadata": {},
   "outputs": [],
   "source": [
    "# Selecionando o X e o y\n",
    "\n",
    "\n",
    "# X = ecoli[atributos]\n",
    "X = ecoli.iloc[:, :limiar] # Atributos do Data Frame do Pandas\n",
    "y = ecoli.iloc[:, limiar:] # Classes do Data Frame do Pandas\n",
    "\n",
    "y = np.squeeze(y) # Converter em um unico Array quando usar o dataFrame do Pandas\n",
    "\n",
    "y_unique = np.unique(y)\n",
    "\n",
    "from sklearn.preprocessing import LabelEncoder # Criando um mapa de cores para mapear o gráfico\n",
    "\n",
    "lb = LabelEncoder()\n",
    "lb.fit(y)\n",
    "mapa_cores = lb.transform(y)\n",
    "mapa_cores\n",
    "# y_unique # Valores unicos de classes"
   ]
  },
  {
   "cell_type": "markdown",
   "id": "a26f9250",
   "metadata": {},
   "source": [
    "##### PCA"
   ]
  },
  {
   "cell_type": "code",
   "execution_count": null,
   "id": "350ef166",
   "metadata": {},
   "outputs": [],
   "source": [
    "import matplotlib.pyplot as plt\n",
    "from sklearn.decomposition import PCA\n",
    "\n",
    "pca = PCA(n_components=2)\n",
    "X_reduced = pca.fit_transform(X)\n",
    "\n",
    "print('Projecting %d-dimensional data to 2D' % X.shape[1])\n",
    "\n",
    "def plot_g(pyplot, title, colors, n_classes):\n",
    "    pyplot.scatter(X_reduced[:, 0], X_reduced[:, 1], c=colors, \n",
    "             edgecolor='none', alpha=0.7, s=40,\n",
    "             cmap=plt.cm.get_cmap('nipy_spectral', n_classes)\n",
    "           )\n",
    "    pyplot.colorbar()\n",
    "    pyplot.title(title)\n",
    "\n",
    "plt.figure(figsize=(10, 8)) # Tamanho da Figura\n",
    "plot_g(plt, 'Projeção 2D do Dados em PCA', mapa_cores, len(y_unique))\n",
    "plt.show()\n"
   ]
  },
  {
   "cell_type": "markdown",
   "id": "ee61099d",
   "metadata": {},
   "source": [
    "##### Plotando os Gráficos "
   ]
  },
  {
   "cell_type": "code",
   "execution_count": null,
   "id": "e39ef0cb",
   "metadata": {
    "scrolled": false
   },
   "outputs": [],
   "source": [
    "\n",
    "# plt.figure(figsize=(10*2, 7))\n",
    "\n",
    "# plt.subplot(1, 2, 1) # row 1, col 2 index 1\n",
    "# plt.scatter(X_reduced[:, 0], X_reduced[:, 1], c=labels, \n",
    "#             edgecolor='none', alpha=0.7, s=40,\n",
    "#             cmap=plt.cm.get_cmap('nipy_spectral', len(y_unique)))\n",
    "# plt.colorbar()\n",
    "# plt.title('Projeção KMeans com X Original')\n",
    "\n",
    "# plt.subplot(1, 2, 2) # row 1, col 2 index 1\n",
    "# plt.scatter(X_reduced[:, 0], X_reduced[:, 1], c=labels_PCA, \n",
    "#             edgecolor='none', alpha=0.7, s=40,\n",
    "#             cmap=plt.cm.get_cmap('nipy_spectral', len(y_unique)))\n",
    "# plt.colorbar()\n",
    "# plt.title('Projeção KMeans com X PCA')\n",
    "\n",
    "# plt.show()"
   ]
  },
  {
   "cell_type": "markdown",
   "id": "66f0474a",
   "metadata": {},
   "source": [
    "# Utilização do k-NN"
   ]
  },
  {
   "cell_type": "markdown",
   "id": "4166be29",
   "metadata": {},
   "source": [
    "##### Sem PCA"
   ]
  },
  {
   "cell_type": "code",
   "execution_count": null,
   "id": "eff94c39",
   "metadata": {},
   "outputs": [],
   "source": [
    "dataset = ecoli\n",
    "\n",
    "i_sort = np.random.randint(len(X) - 1) # Selecionando aleatóriamente um index de teste\n",
    "\n",
    "X_teste = X.iloc[i_sort] \n",
    "X = X.drop(i_sort)\n",
    "\n",
    "y_teste = y.iloc[i_sort]\n",
    "y = y.drop(i_sort)"
   ]
  },
  {
   "cell_type": "code",
   "execution_count": null,
   "id": "60f82481",
   "metadata": {},
   "outputs": [],
   "source": [
    "from sklearn.neighbors import KNeighborsClassifier\n",
    "\n",
    "knn = KNeighborsClassifier(n_neighbors=5)\n",
    "\n",
    "knn.fit(X, y)\n",
    "\n",
    "predict = knn.predict(np.array(X_teste).reshape(1,-1))\n",
    "\n",
    "print({\"Previsto:\": predict, \"Correto:\": y_teste})"
   ]
  },
  {
   "cell_type": "code",
   "execution_count": null,
   "id": "050490e2",
   "metadata": {},
   "outputs": [],
   "source": [
    "dist, vizinhos = knn.kneighbors(np.array(X_teste).reshape(1,-1))\n",
    "classes = []\n",
    "for v in vizinhos:\n",
    "    classes.append(dataset.iloc[:-1, limiar][v])\n",
    "classes"
   ]
  },
  {
   "cell_type": "markdown",
   "id": "ae6bad24",
   "metadata": {},
   "source": [
    "# Utilização do Naive Bayes"
   ]
  },
  {
   "cell_type": "markdown",
   "id": "80df16e1",
   "metadata": {},
   "source": [
    "##### Sem PCA"
   ]
  },
  {
   "cell_type": "code",
   "execution_count": null,
   "id": "a1c777dd",
   "metadata": {},
   "outputs": [],
   "source": [
    "from sklearn.naive_bayes import GaussianNB\n",
    "\n",
    "gnb = GaussianNB()\n",
    "gnb.fit(X, y)\n",
    "predict = gnb.predict(np.array(X_teste).reshape(1,-1))\n",
    "\n",
    "print({\"Previsto:\": predict, \"Correto:\": y_teste})"
   ]
  },
  {
   "cell_type": "code",
   "execution_count": null,
   "id": "e826c9d0",
   "metadata": {},
   "outputs": [],
   "source": [
    "# from sklearn.naive_bayes import MultinomialNB\n",
    "\n",
    "# mnb = MultinomialNB()\n",
    "# mnb.fit(X, y)\n",
    "# predict = mnb.predict(np.array(X_teste).reshape(1,-1))\n",
    "\n",
    "# print({\"Previsto:\": predict, \"Correto:\": y_teste})"
   ]
  },
  {
   "cell_type": "markdown",
   "id": "384440a3",
   "metadata": {},
   "source": [
    "# Utilização do SVM"
   ]
  },
  {
   "cell_type": "markdown",
   "id": "75662375",
   "metadata": {},
   "source": [
    "##### RBF"
   ]
  },
  {
   "cell_type": "code",
   "execution_count": null,
   "id": "dc0e9f9f",
   "metadata": {},
   "outputs": [],
   "source": [
    "from sklearn.svm import SVC\n",
    "\n",
    "svc = SVC(kernel='rbf')\n",
    "svc.fit(X, y)\n",
    "predict = svc.predict(np.array(X_teste).reshape(1,-1))\n",
    "\n",
    "print({\"Previsto:\": predict, \"Correto:\": y_teste})"
   ]
  },
  {
   "cell_type": "markdown",
   "id": "01759831",
   "metadata": {},
   "source": [
    "##### Linear"
   ]
  },
  {
   "cell_type": "code",
   "execution_count": null,
   "id": "4c799f78",
   "metadata": {},
   "outputs": [],
   "source": [
    "svc = SVC(kernel='linear')\n",
    "svc.fit(X, y)\n",
    "predict = svc.predict(np.array(X_teste).reshape(1,-1))\n",
    "\n",
    "print({\"Previsto:\": predict, \"Correto:\": y_teste})"
   ]
  },
  {
   "cell_type": "markdown",
   "id": "53192d0c",
   "metadata": {},
   "source": [
    "##### Polinomial"
   ]
  },
  {
   "cell_type": "code",
   "execution_count": null,
   "id": "dadb925b",
   "metadata": {},
   "outputs": [],
   "source": [
    "svc = SVC(kernel='poly')\n",
    "svc.fit(X, y)\n",
    "predict = svc.predict(np.array(X_teste).reshape(1,-1))\n",
    "\n",
    "print({\"Previsto:\": predict, \"Correto:\": y_teste})"
   ]
  },
  {
   "cell_type": "markdown",
   "id": "8e5a20eb",
   "metadata": {},
   "source": [
    "##### Sigmoid"
   ]
  },
  {
   "cell_type": "code",
   "execution_count": null,
   "id": "8261582d",
   "metadata": {},
   "outputs": [],
   "source": [
    "svc = SVC(kernel='sigmoid')\n",
    "svc.fit(X, y)\n",
    "predict = svc.predict(np.array(X_teste).reshape(1,-1))\n",
    "\n",
    "print({\"Previsto:\": predict, \"Correto:\": y_teste})"
   ]
  }
 ],
 "metadata": {
  "kernelspec": {
   "display_name": "rp-2021_1-uast",
   "language": "python",
   "name": "rp-2021_1-uast"
  },
  "language_info": {
   "codemirror_mode": {
    "name": "ipython",
    "version": 3
   },
   "file_extension": ".py",
   "mimetype": "text/x-python",
   "name": "python",
   "nbconvert_exporter": "python",
   "pygments_lexer": "ipython3",
   "version": "3.8.5"
  }
 },
 "nbformat": 4,
 "nbformat_minor": 5
}
