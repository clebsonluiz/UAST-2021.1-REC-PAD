{
 "cells": [
  {
   "cell_type": "markdown",
   "id": "50776575",
   "metadata": {},
   "source": [
    "# Imports"
   ]
  },
  {
   "cell_type": "code",
   "execution_count": null,
   "id": "ab351647",
   "metadata": {},
   "outputs": [],
   "source": [
    "import pandas as pd \n",
    "import numpy as np"
   ]
  },
  {
   "cell_type": "markdown",
   "id": "2247e271",
   "metadata": {},
   "source": [
    "### Base com atributos boleandos porem categóricos"
   ]
  },
  {
   "cell_type": "code",
   "execution_count": null,
   "id": "13e3052c",
   "metadata": {},
   "outputs": [],
   "source": [
    "# Base tirada de https://archive.ics.uci.edu/ml/datasets/Acute+Inflammations\n",
    "\n",
    "# Esta base apresenta 2 colunas de classes, necessário observação extra, para isso vamos transformar em uma coluna\n",
    "\n",
    "diagnosis = pd.read_csv('databases/diagnosis.csv',\n",
    "                      header=None, \n",
    "                      names=[\n",
    "                         \"Temperature\",\n",
    "                         \"nausea?\",\n",
    "                         \"Lumbar pain?\",\n",
    "                         \"Urine pushing?\", \n",
    "                         \"Micturition pains?\", \n",
    "                         \"Burning of urethra, itch, swelling of urethra outlet?\", \n",
    "                         \"decision: Inflammation of urinary bladder\", \n",
    "                         \"decision: Nephritis of renal pelvis origin\"\n",
    "                      ])\n",
    "\n",
    "diagnosis"
   ]
  },
  {
   "cell_type": "code",
   "execution_count": null,
   "id": "9911c871",
   "metadata": {},
   "outputs": [],
   "source": [
    "# diagnosis.describe()"
   ]
  },
  {
   "cell_type": "code",
   "execution_count": null,
   "id": "8f1fab8e",
   "metadata": {},
   "outputs": [],
   "source": [
    "# diagnosis.dtypes"
   ]
  },
  {
   "cell_type": "markdown",
   "id": "d0e94ce4",
   "metadata": {},
   "source": [
    "## Pré-Processamento Inicial"
   ]
  },
  {
   "cell_type": "markdown",
   "id": "3fdaee78",
   "metadata": {},
   "source": [
    "##### Antes é necessário tratar as duas classes como uma só"
   ]
  },
  {
   "cell_type": "code",
   "execution_count": null,
   "id": "0c2ca342",
   "metadata": {},
   "outputs": [],
   "source": [
    "# Para transformar as duas colunas de classes em uma só, é feita uma comparação de condição\n",
    "\n",
    "# A classse nova será da seguinte forma\n",
    "\n",
    "significado_da_classe = {\n",
    "    0 : \"Nenhum dos dois (Inflammation of urinary bladder | Nephritis of renal pelvis origin)\",\n",
    "    1 : \"Apenas (Inflammation of urinary bladder)\",\n",
    "    2 : \"Apenas (Nephritis of renal pelvis origin)\",\n",
    "    3 : \"Ambos (Inflammation of urinary bladder | Nephritis of renal pelvis origin)\", \n",
    "}\n",
    "\n",
    "def comparar_e_transformar(row):\n",
    "    d_1 = len(row) - 2\n",
    "    d_2 = len(row) - 1\n",
    "    if row[d_1] == \"no\" == row[d_2]:\n",
    "        return 0\n",
    "    if row[d_1] == \"yes\" != row[d_2]:\n",
    "        return 1\n",
    "    if row[d_1] == \"no\" != row[d_2]:\n",
    "        return 2\n",
    "    if row[d_1] == \"yes\" == row[d_2]:\n",
    "        return 3 \n",
    "\n",
    "_temp = diagnosis.apply(comparar_e_transformar, axis=1)\n",
    "\n",
    "# Deletando as duas ultimas colunas de classes para adicionar a nova\n",
    "\n",
    "for i in range(2):\n",
    "    name = diagnosis.columns[-1]\n",
    "    del diagnosis[name]\n",
    "\n",
    "diagnosis[\"Class\"] = _temp\n",
    "diagnosis"
   ]
  },
  {
   "cell_type": "markdown",
   "id": "fd5e0a95",
   "metadata": {},
   "source": [
    "##### Converter os atributos boleanos em numeros"
   ]
  },
  {
   "cell_type": "code",
   "execution_count": null,
   "id": "71a2f694",
   "metadata": {},
   "outputs": [],
   "source": [
    "# converter os atributos boleanos em numeros com o OrdinalEncoder\n",
    "\n",
    "from sklearn.preprocessing import OrdinalEncoder\n",
    "atributos = [\n",
    "    \"nausea?\",\n",
    "    \"Lumbar pain?\",\n",
    "    \"Urine pushing?\", \n",
    "    \"Micturition pains?\", \n",
    "    \"Burning of urethra, itch, swelling of urethra outlet?\"\n",
    "    ]\n",
    "\n",
    "enc = OrdinalEncoder()\n",
    "enc.fit(diagnosis[atributos])\n",
    "diagnosis[atributos] = enc.transform(diagnosis[atributos])\n",
    "\n",
    "diagnosis"
   ]
  },
  {
   "cell_type": "code",
   "execution_count": null,
   "id": "8479d6cb",
   "metadata": {},
   "outputs": [],
   "source": [
    "from sklearn.preprocessing import StandardScaler\n",
    "\n",
    "\n",
    "atributos = diagnosis.columns.values.tolist()\n",
    "\n",
    "limiar = 6 # O limiar separa o index do que é atributo para o que é a classe\n",
    "atributos = diagnosis.columns[:limiar] # seleciono apenas os atributos\n",
    "\n",
    "# Agora é possivel aplicar o StandardScaler apenas nos atributos\n",
    "\n",
    "diagnosis[atributos] = StandardScaler().fit_transform(diagnosis[atributos])\n",
    "diagnosis[atributos]"
   ]
  },
  {
   "cell_type": "markdown",
   "id": "a432d8e9",
   "metadata": {},
   "source": [
    "## Aprendizagem supervisionada\n",
    "##### Selecionando o X e y"
   ]
  },
  {
   "cell_type": "code",
   "execution_count": null,
   "id": "c5741423",
   "metadata": {},
   "outputs": [],
   "source": [
    "# Selecionando o X e o y\n",
    "\n",
    "\n",
    "# X = jogo_da_velha[atributos]\n",
    "X = diagnosis.iloc[:, :limiar] # Atributos do Data Frame do Pandas\n",
    "y = diagnosis.iloc[:, limiar:] # Classes do Data Frame do Pandas\n",
    "\n",
    "y = np.squeeze(y) # Converter em um unico Array quando usar o dataFrame do Pandas\n",
    "\n",
    "y_unique = np.unique(y)\n",
    "\n",
    "mapa_cores = y.copy()\n",
    "\n",
    "y_unique # Valores unicos de classes"
   ]
  },
  {
   "cell_type": "markdown",
   "id": "a26f9250",
   "metadata": {},
   "source": [
    "##### PCA"
   ]
  },
  {
   "cell_type": "code",
   "execution_count": null,
   "id": "350ef166",
   "metadata": {},
   "outputs": [],
   "source": [
    "import matplotlib.pyplot as plt\n",
    "from sklearn.decomposition import PCA\n",
    "\n",
    "pca = PCA(n_components=2)\n",
    "X_reduced = pca.fit_transform(X)\n",
    "\n",
    "print('Projecting %d-dimensional data to 2D' % X.shape[1])\n",
    "\n",
    "def plot_g(pyplot, title, colors, n_classes):\n",
    "    pyplot.scatter(X_reduced[:, 0], X_reduced[:, 1], c=colors, \n",
    "             edgecolor='none', alpha=0.7, s=40,\n",
    "             cmap=plt.cm.get_cmap('nipy_spectral', n_classes)\n",
    "           )\n",
    "    pyplot.colorbar()\n",
    "    pyplot.title(title)\n",
    "\n",
    "plt.figure(figsize=(10, 8)) # Tamanho da Figura\n",
    "plot_g(plt, 'Projeção 2D do Dados em PCA', mapa_cores, len(y_unique))\n",
    "plt.show()\n"
   ]
  },
  {
   "cell_type": "markdown",
   "id": "ee61099d",
   "metadata": {},
   "source": [
    "##### Plotando os Gráficos "
   ]
  },
  {
   "cell_type": "code",
   "execution_count": null,
   "id": "e39ef0cb",
   "metadata": {
    "scrolled": false
   },
   "outputs": [],
   "source": [
    "\n",
    "# plt.figure(figsize=(10*2, 7))\n",
    "\n",
    "# plt.subplot(1, 2, 1) # row 1, col 2 index 1\n",
    "# plt.scatter(X_reduced[:, 0], X_reduced[:, 1], c=labels, \n",
    "#             edgecolor='none', alpha=0.7, s=40,\n",
    "#             cmap=plt.cm.get_cmap('nipy_spectral', len(y_unique)))\n",
    "# plt.colorbar()\n",
    "# plt.title('Projeção KMeans com X Original')\n",
    "\n",
    "# plt.subplot(1, 2, 2) # row 1, col 2 index 1\n",
    "# plt.scatter(X_reduced[:, 0], X_reduced[:, 1], c=labels_PCA, \n",
    "#             edgecolor='none', alpha=0.7, s=40,\n",
    "#             cmap=plt.cm.get_cmap('nipy_spectral', len(y_unique)))\n",
    "# plt.colorbar()\n",
    "# plt.title('Projeção KMeans com X PCA')\n",
    "\n",
    "# plt.show()"
   ]
  },
  {
   "cell_type": "markdown",
   "id": "66f0474a",
   "metadata": {},
   "source": [
    "# Utilização do k-NN"
   ]
  },
  {
   "cell_type": "markdown",
   "id": "4166be29",
   "metadata": {},
   "source": [
    "##### Sem PCA"
   ]
  },
  {
   "cell_type": "code",
   "execution_count": null,
   "id": "eff94c39",
   "metadata": {},
   "outputs": [],
   "source": [
    "dataset = diagnosis\n",
    "\n",
    "i_sort = np.random.randint(len(X) - 1) # Selecionando aleatóriamente um index de teste\n",
    "\n",
    "X_teste = X.iloc[i_sort] \n",
    "X = X.drop(i_sort)\n",
    "\n",
    "y_teste = y.iloc[i_sort]\n",
    "y = y.drop(i_sort)"
   ]
  },
  {
   "cell_type": "code",
   "execution_count": null,
   "id": "60f82481",
   "metadata": {},
   "outputs": [],
   "source": [
    "from sklearn.neighbors import KNeighborsClassifier\n",
    "\n",
    "knn = KNeighborsClassifier(n_neighbors=5)\n",
    "\n",
    "knn.fit(X, y)\n",
    "\n",
    "predict = knn.predict(np.array(X_teste).reshape(1,-1))\n",
    "\n",
    "print({\"Previsto:\": predict, \"Correto:\": y_teste})"
   ]
  },
  {
   "cell_type": "code",
   "execution_count": null,
   "id": "050490e2",
   "metadata": {},
   "outputs": [],
   "source": [
    "dist, vizinhos = knn.kneighbors(np.array(X_teste).reshape(1,-1))\n",
    "classes = []\n",
    "for v in vizinhos:\n",
    "    classes.append(dataset.iloc[:-1, limiar][v])\n",
    "classes"
   ]
  },
  {
   "cell_type": "code",
   "execution_count": null,
   "id": "389a9861",
   "metadata": {},
   "outputs": [],
   "source": []
  }
 ],
 "metadata": {
  "kernelspec": {
   "display_name": "rp-2021_1-uast",
   "language": "python",
   "name": "rp-2021_1-uast"
  },
  "language_info": {
   "codemirror_mode": {
    "name": "ipython",
    "version": 3
   },
   "file_extension": ".py",
   "mimetype": "text/x-python",
   "name": "python",
   "nbconvert_exporter": "python",
   "pygments_lexer": "ipython3",
   "version": "3.8.5"
  }
 },
 "nbformat": 4,
 "nbformat_minor": 5
}
