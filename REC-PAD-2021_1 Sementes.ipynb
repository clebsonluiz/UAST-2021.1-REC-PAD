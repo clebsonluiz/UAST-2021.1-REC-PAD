{
 "cells": [
  {
   "cell_type": "markdown",
   "id": "50776575",
   "metadata": {},
   "source": [
    "# Imports"
   ]
  },
  {
   "cell_type": "code",
   "execution_count": null,
   "id": "ab351647",
   "metadata": {},
   "outputs": [],
   "source": [
    "import pandas as pd \n",
    "import numpy as np"
   ]
  },
  {
   "cell_type": "markdown",
   "id": "2247e271",
   "metadata": {},
   "source": [
    "### Base com atributos numéricos"
   ]
  },
  {
   "cell_type": "code",
   "execution_count": null,
   "id": "13e3052c",
   "metadata": {},
   "outputs": [],
   "source": [
    "# Base tirada de https://archive.ics.uci.edu/ml/datasets/seeds\n",
    "\n",
    "seeds = pd.read_csv('databases/seeds_dataset.csv',\n",
    "                      header=None, \n",
    "                      names=[\n",
    "                        \"area A\",\n",
    "                        \"perimeter P\",\n",
    "                        \"compactness C = 4*pi*A/P^2\",\n",
    "                        \"length of kernel\",\n",
    "                        \"width of kernel\",\n",
    "                        \"asymmetry coefficient\",\n",
    "                        \"length of kernel groove.\",\n",
    "                        \"Class (Species)\"\n",
    "                      ])\n",
    "\n",
    "\n",
    "# seeds = seeds.replace({\n",
    "\n",
    "# })\n",
    "\n",
    "seeds"
   ]
  },
  {
   "cell_type": "code",
   "execution_count": null,
   "id": "9911c871",
   "metadata": {},
   "outputs": [],
   "source": [
    "# seeds.describe()"
   ]
  },
  {
   "cell_type": "code",
   "execution_count": null,
   "id": "8f1fab8e",
   "metadata": {},
   "outputs": [],
   "source": [
    "# seeds.dtypes"
   ]
  },
  {
   "cell_type": "markdown",
   "id": "b1fc27b5",
   "metadata": {},
   "source": [
    "## Pré-Processamento Inicial"
   ]
  },
  {
   "cell_type": "code",
   "execution_count": null,
   "id": "8479d6cb",
   "metadata": {},
   "outputs": [],
   "source": [
    "from sklearn.preprocessing import StandardScaler\n",
    "\n",
    "atributos = [           \n",
    "                        \"area A\",\n",
    "                        \"perimeter P\",\n",
    "                        \"compactness C = 4*pi*A/P^2\",\n",
    "                        \"length of kernel\",\n",
    "                        \"width of kernel\",\n",
    "                        \"asymmetry coefficient\",\n",
    "                        \"length of kernel groove.\"\n",
    "    ]\n",
    "\n",
    "seeds[atributos] = StandardScaler().fit_transform(seeds[atributos])\n",
    "\n",
    "limiar = 7\n",
    "\n",
    "seeds\n"
   ]
  },
  {
   "cell_type": "markdown",
   "id": "a432d8e9",
   "metadata": {},
   "source": [
    "## Aprendizagem supervisionada\n",
    "##### Selecionando o X e y"
   ]
  },
  {
   "cell_type": "code",
   "execution_count": null,
   "id": "c5741423",
   "metadata": {},
   "outputs": [],
   "source": [
    "# Selecionando o X e o y\n",
    "\n",
    "\n",
    "# X = seeds[atributos]\n",
    "X = seeds.iloc[:, :limiar] # Atributos do Data Frame do Pandas\n",
    "y = seeds.iloc[:, limiar:] # Classes do Data Frame do Pandas\n",
    "\n",
    "y = np.squeeze(y) # Converter em um unico Array quando usar o dataFrame do Pandas\n",
    "\n",
    "y_unique = np.unique(y)\n",
    "\n",
    "mapa_cores = y.copy() # Criando um mapa de cores para mapear o gráfico\n",
    "\n",
    "y_unique # Valores unicos de classes"
   ]
  },
  {
   "cell_type": "markdown",
   "id": "a26f9250",
   "metadata": {},
   "source": [
    "##### PCA"
   ]
  },
  {
   "cell_type": "code",
   "execution_count": null,
   "id": "350ef166",
   "metadata": {},
   "outputs": [],
   "source": [
    "import matplotlib.pyplot as plt\n",
    "from sklearn.decomposition import PCA\n",
    "\n",
    "pca = PCA(n_components=2)\n",
    "X_reduced = pca.fit_transform(X)\n",
    "\n",
    "print('Projecting %d-dimensional data to 2D' % X.shape[1])\n",
    "\n",
    "def plot_g(pyplot, title, colors, n_classes):\n",
    "    pyplot.scatter(X_reduced[:, 0], X_reduced[:, 1], c=colors, \n",
    "             edgecolor='none', alpha=0.7, s=40,\n",
    "             cmap=plt.cm.get_cmap('nipy_spectral', n_classes)\n",
    "           )\n",
    "    pyplot.colorbar()\n",
    "    pyplot.title(title)\n",
    "\n",
    "plt.figure(figsize=(10, 8)) # Tamanho da Figura\n",
    "plot_g(plt, 'Projeção 2D do Dados em PCA', mapa_cores, len(y_unique))\n",
    "plt.show()\n"
   ]
  },
  {
   "cell_type": "markdown",
   "id": "ee61099d",
   "metadata": {},
   "source": [
    "##### Plotando os Gráficos "
   ]
  },
  {
   "cell_type": "code",
   "execution_count": null,
   "id": "e39ef0cb",
   "metadata": {
    "scrolled": false
   },
   "outputs": [],
   "source": [
    "\n",
    "# plt.figure(figsize=(10*2, 7))\n",
    "\n",
    "# plt.subplot(1, 2, 1) # row 1, col 2 index 1\n",
    "# plt.scatter(X_reduced[:, 0], X_reduced[:, 1], c=labels, \n",
    "#             edgecolor='none', alpha=0.7, s=40,\n",
    "#             cmap=plt.cm.get_cmap('nipy_spectral', len(y_unique)))\n",
    "# plt.colorbar()\n",
    "# plt.title('Projeção KMeans com X Original')\n",
    "\n",
    "# plt.subplot(1, 2, 2) # row 1, col 2 index 1\n",
    "# plt.scatter(X_reduced[:, 0], X_reduced[:, 1], c=labels_PCA, \n",
    "#             edgecolor='none', alpha=0.7, s=40,\n",
    "#             cmap=plt.cm.get_cmap('nipy_spectral', len(y_unique)))\n",
    "# plt.colorbar()\n",
    "# plt.title('Projeção KMeans com X PCA')\n",
    "\n",
    "# plt.show()"
   ]
  },
  {
   "cell_type": "markdown",
   "id": "66f0474a",
   "metadata": {},
   "source": [
    "# Utilização do k-NN"
   ]
  },
  {
   "cell_type": "markdown",
   "id": "4166be29",
   "metadata": {},
   "source": [
    "##### Sem PCA"
   ]
  },
  {
   "cell_type": "code",
   "execution_count": null,
   "id": "eff94c39",
   "metadata": {},
   "outputs": [],
   "source": [
    "dataset = seeds\n",
    "\n",
    "i_sort = np.random.randint(len(X) - 1) # Selecionando aleatóriamente um index de teste\n",
    "\n",
    "X_teste = X.iloc[i_sort] \n",
    "X = X.drop(i_sort)\n",
    "\n",
    "y_teste = y.iloc[i_sort]\n",
    "y = y.drop(i_sort)"
   ]
  },
  {
   "cell_type": "code",
   "execution_count": null,
   "id": "60f82481",
   "metadata": {},
   "outputs": [],
   "source": [
    "from sklearn.neighbors import KNeighborsClassifier\n",
    "\n",
    "knn = KNeighborsClassifier(n_neighbors=5)\n",
    "\n",
    "knn.fit(X, y)\n",
    "\n",
    "predict = knn.predict(np.array(X_teste).reshape(1,-1))\n",
    "\n",
    "print({\"Previsto:\": predict, \"Correto:\": y_teste})"
   ]
  },
  {
   "cell_type": "code",
   "execution_count": null,
   "id": "050490e2",
   "metadata": {},
   "outputs": [],
   "source": [
    "dist, vizinhos = knn.kneighbors(np.array(X_teste).reshape(1,-1))\n",
    "classes = []\n",
    "for v in vizinhos:\n",
    "    classes.append(dataset.iloc[:-1, limiar][v])\n",
    "classes"
   ]
  },
  {
   "cell_type": "code",
   "execution_count": null,
   "id": "202b1d1b",
   "metadata": {},
   "outputs": [],
   "source": []
  }
 ],
 "metadata": {
  "kernelspec": {
   "display_name": "rp-2021_1-uast",
   "language": "python",
   "name": "rp-2021_1-uast"
  },
  "language_info": {
   "codemirror_mode": {
    "name": "ipython",
    "version": 3
   },
   "file_extension": ".py",
   "mimetype": "text/x-python",
   "name": "python",
   "nbconvert_exporter": "python",
   "pygments_lexer": "ipython3",
   "version": "3.8.5"
  }
 },
 "nbformat": 4,
 "nbformat_minor": 5
}
