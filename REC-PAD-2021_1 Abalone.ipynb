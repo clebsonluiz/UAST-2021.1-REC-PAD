{
 "cells": [
  {
   "cell_type": "markdown",
   "id": "50776575",
   "metadata": {},
   "source": [
    "# Imports"
   ]
  },
  {
   "cell_type": "code",
   "execution_count": null,
   "id": "ab351647",
   "metadata": {},
   "outputs": [],
   "source": [
    "import pandas as pd \n",
    "import numpy as np"
   ]
  },
  {
   "cell_type": "markdown",
   "id": "2247e271",
   "metadata": {},
   "source": [
    "### Base com atributos categóricos e numéricos"
   ]
  },
  {
   "cell_type": "code",
   "execution_count": null,
   "id": "13e3052c",
   "metadata": {},
   "outputs": [],
   "source": [
    "# Base tirada de https://archive.ics.uci.edu/ml/datasets/Abalone\n",
    "\n",
    "abalones = pd.read_csv('databases/abalone.csv',\n",
    "                      header=None, \n",
    "                      names=[\n",
    "                            \"Sex\",\n",
    "                            \"Length\",\n",
    "                            \"Diameter\",\n",
    "                            \"Height\",\n",
    "                            \"Whole weight\",\n",
    "                            \"Shucked weight\",\n",
    "                            \"Viscera weight\",\n",
    "                            \"Shell weight\",\n",
    "                            \"Rings\"\n",
    "                            ])\n",
    "\n",
    "reordered = False\n",
    "abalones"
   ]
  },
  {
   "cell_type": "code",
   "execution_count": null,
   "id": "9911c871",
   "metadata": {},
   "outputs": [],
   "source": [
    "abalones.describe()"
   ]
  },
  {
   "cell_type": "code",
   "execution_count": null,
   "id": "8f1fab8e",
   "metadata": {},
   "outputs": [],
   "source": [
    "abalones.dtypes"
   ]
  },
  {
   "cell_type": "markdown",
   "id": "dd14088f",
   "metadata": {},
   "source": [
    "## Pré-Processamento Inicial"
   ]
  },
  {
   "cell_type": "code",
   "execution_count": null,
   "id": "71a2f694",
   "metadata": {},
   "outputs": [],
   "source": [
    "atributos_categoricos = [\n",
    "    \"Sex\"\n",
    "    ]\n",
    "\n",
    "abalones = pd.get_dummies(abalones, columns=atributos_categoricos)\n",
    "abalones"
   ]
  },
  {
   "cell_type": "code",
   "execution_count": null,
   "id": "6ebad927",
   "metadata": {
    "scrolled": false
   },
   "outputs": [],
   "source": [
    "# from sklearn.preprocessing import OrdinalEncoder\n",
    "# atributos = [\n",
    "#                             \"Sex\",\n",
    "#                             \"Length\",\n",
    "#                             \"Diameter\",\n",
    "#                             \"Height\",\n",
    "#                             \"Whole weight\",\n",
    "#                             \"Shucked weight\",\n",
    "#                             \"Viscera weight\",\n",
    "#                             \"Shell weight\"\n",
    "#                       ]\n",
    "# enc = OrdinalEncoder()\n",
    "# enc.fit(abalones[atributos])\n",
    "# abalones[atributos] = enc.transform(abalones[atributos])\n",
    "# abalones"
   ]
  },
  {
   "cell_type": "code",
   "execution_count": null,
   "id": "8479d6cb",
   "metadata": {},
   "outputs": [],
   "source": [
    "from sklearn.preprocessing import StandardScaler\n",
    "\n",
    "atributos = abalones.columns.values.tolist()\n",
    "if not reordered:\n",
    "    for i in range(8):\n",
    "        e = atributos.pop(0)\n",
    "        atributos.append(e)\n",
    "    atributos\n",
    "\n",
    "reordered = True\n",
    "abalones = abalones.reindex(columns=atributos)\n",
    "abalones\n",
    "\n",
    "\n",
    "limiar = len(atributos) - 1 # O limiar separa o index do que é atributo para o que é a classe\n",
    "atributos = abalones.columns[:limiar] # seleciono apenas os atributos\n",
    "\n",
    "# Agora é possivel aplicar o StandardScaler apenas nos atributos\n",
    "\n",
    "abalones[atributos] = StandardScaler().fit_transform(abalones[atributos])\n",
    "abalones[atributos]"
   ]
  },
  {
   "cell_type": "markdown",
   "id": "a432d8e9",
   "metadata": {},
   "source": [
    "## Clusterizando a base dos Abalones\n",
    "##### Selecionando o X e y"
   ]
  },
  {
   "cell_type": "code",
   "execution_count": null,
   "id": "c5741423",
   "metadata": {},
   "outputs": [],
   "source": [
    "# Selecionando o X e o y\n",
    "\n",
    "X = abalones.iloc[:, :limiar].values # Atributos do Data Frame do Pandas\n",
    "y = abalones.iloc[:, limiar:].values # Classes do Data Frame do Pandas\n",
    "\n",
    "y = np.squeeze(y) # Converter em um unico Array quando usar o dataFrame do Pandas\n",
    "\n",
    "y_unique = np.unique(y)\n",
    "\n",
    "# Atualizando o eixo Y\n",
    "# for i in range(len(y_unique)):\n",
    "#     y = [i if y_unique[i] == e else e for e in y]\n",
    "# y = np.array(y)\n",
    "\n",
    "y_unique # Valores unicos de classes"
   ]
  },
  {
   "cell_type": "markdown",
   "id": "eca6aefd",
   "metadata": {},
   "source": [
    "##### Exemplos de Algoritmos para cálculos de distâncias"
   ]
  },
  {
   "cell_type": "code",
   "execution_count": null,
   "id": "b4795404",
   "metadata": {},
   "outputs": [],
   "source": [
    "# from sklearn.metrics.pairwise import pairwise_distances, cosine_similarity\n",
    "\n",
    "\n",
    "# eucl = pairwise_distances(X[0].reshape(1, -1), X[1].reshape(1, -1), 'euclidean')\n",
    "\n",
    "# manh = pairwise_distances(X[0].reshape(1, -1), X[1].reshape(1, -1), 'manhattan')\n",
    "\n",
    "# ass_cos = cosine_similarity(X[0].reshape(1, -1), X[1].reshape(1, -1))\n",
    "\n",
    "# print(\"Euclidiano: \", eucl)\n",
    "# print(\"Manhattan: \", manh)\n",
    "# print(\"Assimilaridade do Cosseno: \", ass_cos)"
   ]
  },
  {
   "cell_type": "code",
   "execution_count": null,
   "id": "0d234a97",
   "metadata": {},
   "outputs": [],
   "source": [
    "#pd.DataFrame(pairwise_distances(X, metric='euclidean'))\n"
   ]
  },
  {
   "cell_type": "markdown",
   "id": "a26f9250",
   "metadata": {},
   "source": [
    "##### PCA"
   ]
  },
  {
   "cell_type": "code",
   "execution_count": null,
   "id": "350ef166",
   "metadata": {},
   "outputs": [],
   "source": [
    "import matplotlib.pyplot as plt\n",
    "from sklearn.decomposition import PCA\n",
    "\n",
    "pca = PCA(n_components=2)\n",
    "X_reduced = pca.fit_transform(X)\n",
    "\n",
    "print('Projecting %d-dimensional data to 2D' % X.shape[1])\n",
    "\n",
    "def plot_g(pyplot, title, colors, n_classes):\n",
    "    pyplot.scatter(X_reduced[:, 0], X_reduced[:, 1], c=colors, \n",
    "             edgecolor='none', alpha=0.7, s=40,\n",
    "             cmap=plt.cm.get_cmap('nipy_spectral', n_classes)\n",
    "           )\n",
    "    pyplot.colorbar()\n",
    "    pyplot.title(title)\n",
    "\n",
    "plt.figure(figsize=(10, 8)) # Tamanho da Figura\n",
    "plot_g(plt, 'Projeção 2D do Dados em PCA', y, len(y_unique))\n",
    "plt.show()\n"
   ]
  },
  {
   "cell_type": "markdown",
   "id": "8eba0817",
   "metadata": {},
   "source": [
    "##### KMeans com a base original e com o PCA"
   ]
  },
  {
   "cell_type": "code",
   "execution_count": null,
   "id": "7d1cd172",
   "metadata": {},
   "outputs": [],
   "source": [
    "from sklearn.cluster import KMeans\n",
    "\n",
    "kmeans = KMeans(n_clusters=len(y_unique)).fit(X)\n",
    "labels = kmeans.labels_\n",
    "\n",
    "kmeans_PCA = KMeans(n_clusters=len(y_unique)).fit(X_reduced)\n",
    "labels_PCA = kmeans_PCA.labels_\n"
   ]
  },
  {
   "cell_type": "markdown",
   "id": "ee61099d",
   "metadata": {},
   "source": [
    "##### Plotando os Gráficos "
   ]
  },
  {
   "cell_type": "code",
   "execution_count": null,
   "id": "e39ef0cb",
   "metadata": {
    "scrolled": false
   },
   "outputs": [],
   "source": [
    "\n",
    "plt.figure(figsize=(10*2, 7))\n",
    "\n",
    "plt.subplot(1, 2, 1) # row 1, col 2 index 1\n",
    "plt.scatter(X_reduced[:, 0], X_reduced[:, 1], c=labels, \n",
    "            edgecolor='none', alpha=0.7, s=40,\n",
    "            cmap=plt.cm.get_cmap('nipy_spectral', len(y_unique)))\n",
    "plt.colorbar()\n",
    "plt.title('Projeção KMeans com X Original')\n",
    "\n",
    "plt.subplot(1, 2, 2) # row 1, col 2 index 1\n",
    "plt.scatter(X_reduced[:, 0], X_reduced[:, 1], c=labels_PCA, \n",
    "            edgecolor='none', alpha=0.7, s=40,\n",
    "            cmap=plt.cm.get_cmap('nipy_spectral', len(y_unique)))\n",
    "plt.colorbar()\n",
    "plt.title('Projeção KMeans com X PCA')\n",
    "\n",
    "plt.show()"
   ]
  },
  {
   "cell_type": "markdown",
   "id": "adf62954",
   "metadata": {},
   "source": [
    "##### Comparando o KMeans, KMeans PCA e o y Original"
   ]
  },
  {
   "cell_type": "code",
   "execution_count": null,
   "id": "c51cfd31",
   "metadata": {},
   "outputs": [],
   "source": [
    "# print(\"Comparação: \")\n",
    "\n",
    "# unique, counts = np.unique(labels, return_counts=True) # KMeans\n",
    "# print(\"KMeans X: \" , dict(zip(unique, counts)))\n",
    "\n",
    "# unique, counts = np.unique(labels_PCA, return_counts=True) # KMeans PCA\n",
    "# print(\"KM.. PCA: \", dict(zip(unique, counts)))\n",
    "\n",
    "# unique, counts = np.unique(y, return_counts=True) # Original\n",
    "# print(\"Original: \", dict(zip(unique, counts)))\n"
   ]
  },
  {
   "cell_type": "markdown",
   "id": "174c23d1",
   "metadata": {},
   "source": [
    "##### Usando as metricas de avaliação para comparar os resultados com e sem o PCA"
   ]
  },
  {
   "cell_type": "markdown",
   "id": "f9408d1f",
   "metadata": {},
   "source": [
    "##### Sem PCA"
   ]
  },
  {
   "cell_type": "code",
   "execution_count": null,
   "id": "3d67ac4a",
   "metadata": {},
   "outputs": [],
   "source": [
    "from sklearn import metrics\n",
    "from sklearn.metrics.cluster import v_measure_score\n",
    "\n",
    "ari = metrics.adjusted_rand_score(y, labels)\n",
    "silh = metrics.silhouette_score(X, labels, metric='euclidean')\n",
    "ami = metrics.adjusted_mutual_info_score(y, labels)\n",
    "vm = v_measure_score(y, labels)"
   ]
  },
  {
   "cell_type": "markdown",
   "id": "e8933b68",
   "metadata": {},
   "source": [
    "##### Com PCA"
   ]
  },
  {
   "cell_type": "code",
   "execution_count": null,
   "id": "cca833fb",
   "metadata": {},
   "outputs": [],
   "source": [
    "ari_pca = metrics.adjusted_rand_score(y, labels_PCA)\n",
    "silh_pca = metrics.silhouette_score(X_reduced, labels_PCA, metric='euclidean')\n",
    "ami_pca = metrics.adjusted_mutual_info_score(y, labels_PCA)\n",
    "vm_pca = v_measure_score(y, labels_PCA)"
   ]
  },
  {
   "cell_type": "markdown",
   "id": "a186ac47",
   "metadata": {},
   "source": [
    "##### Tabela de comparação dos resultados"
   ]
  },
  {
   "cell_type": "code",
   "execution_count": null,
   "id": "b36e500b",
   "metadata": {},
   "outputs": [],
   "source": [
    "data = {\n",
    "# \"Base de dados\": [], \n",
    "\"Pré-processamento\":['Com PCA', 'Sem PCA'], \n",
    "\"SILHUETA\":[silh_pca, silh], \n",
    "\"ARI\": [ari_pca, ari], \n",
    "\"AMI\": [ami_pca, ami], \n",
    "\"V-M\":[vm_pca, vm]\n",
    "}\n",
    "\n",
    "pd.DataFrame(data)"
   ]
  },
  {
   "cell_type": "code",
   "execution_count": null,
   "id": "9f653e91",
   "metadata": {},
   "outputs": [],
   "source": []
  }
 ],
 "metadata": {
  "kernelspec": {
   "display_name": "rp-2021_1-uast",
   "language": "python",
   "name": "rp-2021_1-uast"
  },
  "language_info": {
   "codemirror_mode": {
    "name": "ipython",
    "version": 3
   },
   "file_extension": ".py",
   "mimetype": "text/x-python",
   "name": "python",
   "nbconvert_exporter": "python",
   "pygments_lexer": "ipython3",
   "version": "3.8.5"
  }
 },
 "nbformat": 4,
 "nbformat_minor": 5
}
