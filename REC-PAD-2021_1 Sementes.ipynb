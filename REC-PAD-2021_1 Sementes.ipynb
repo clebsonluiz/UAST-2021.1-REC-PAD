{
 "cells": [
  {
   "cell_type": "markdown",
   "id": "50776575",
   "metadata": {},
   "source": [
    "# Imports"
   ]
  },
  {
   "cell_type": "code",
   "execution_count": null,
   "id": "ab351647",
   "metadata": {},
   "outputs": [],
   "source": [
    "import pandas as pd \n",
    "import numpy as np"
   ]
  },
  {
   "cell_type": "markdown",
   "id": "2247e271",
   "metadata": {},
   "source": [
    "### Base com atributos numéricos"
   ]
  },
  {
   "cell_type": "code",
   "execution_count": null,
   "id": "13e3052c",
   "metadata": {},
   "outputs": [],
   "source": [
    "# Base tirada de https://archive.ics.uci.edu/ml/datasets/seeds\n",
    "\n",
    "seeds = pd.read_csv('databases/seeds_dataset.csv',\n",
    "                      header=None, \n",
    "                      names=[\n",
    "                        \"area A\",\n",
    "                        \"perimeter P\",\n",
    "                        \"compactness C = 4*pi*A/P^2\",\n",
    "                        \"length of kernel\",\n",
    "                        \"width of kernel\",\n",
    "                        \"asymmetry coefficient\",\n",
    "                        \"length of kernel groove.\",\n",
    "                        \"Class (Species)\"\n",
    "                      ])\n",
    "\n",
    "\n",
    "# seeds = seeds.replace({\n",
    "\n",
    "# })\n",
    "\n",
    "seeds"
   ]
  },
  {
   "cell_type": "code",
   "execution_count": null,
   "id": "9911c871",
   "metadata": {},
   "outputs": [],
   "source": [
    "# seeds.describe()"
   ]
  },
  {
   "cell_type": "code",
   "execution_count": null,
   "id": "8f1fab8e",
   "metadata": {},
   "outputs": [],
   "source": [
    "# seeds.dtypes"
   ]
  },
  {
   "cell_type": "markdown",
   "id": "b1fc27b5",
   "metadata": {},
   "source": [
    "## Pré-Processamento Inicial"
   ]
  },
  {
   "cell_type": "code",
   "execution_count": null,
   "id": "8479d6cb",
   "metadata": {},
   "outputs": [],
   "source": [
    "from sklearn.preprocessing import StandardScaler\n",
    "\n",
    "atributos = [           \n",
    "                        \"area A\",\n",
    "                        \"perimeter P\",\n",
    "                        \"compactness C = 4*pi*A/P^2\",\n",
    "                        \"length of kernel\",\n",
    "                        \"width of kernel\",\n",
    "                        \"asymmetry coefficient\",\n",
    "                        \"length of kernel groove.\"\n",
    "    ]\n",
    "\n",
    "seeds[atributos] = StandardScaler().fit_transform(seeds[atributos])\n",
    "\n",
    "limiar = 7\n",
    "\n",
    "seeds\n"
   ]
  },
  {
   "cell_type": "markdown",
   "id": "a432d8e9",
   "metadata": {},
   "source": [
    "## Aprendizagem supervisionada\n",
    "##### Selecionando o X e y"
   ]
  },
  {
   "cell_type": "code",
   "execution_count": null,
   "id": "c5741423",
   "metadata": {},
   "outputs": [],
   "source": [
    "# Selecionando o X e o y\n",
    "\n",
    "\n",
    "# X = seeds[atributos]\n",
    "X = seeds.iloc[:, :limiar] # Atributos do Data Frame do Pandas\n",
    "y = seeds.iloc[:, limiar:] # Classes do Data Frame do Pandas\n",
    "\n",
    "y = np.squeeze(y) # Converter em um unico Array quando usar o dataFrame do Pandas\n",
    "\n",
    "y_unique = np.unique(y)\n",
    "\n",
    "mapa_cores = y.copy() # Criando um mapa de cores para mapear o gráfico\n",
    "\n",
    "y_unique # Valores unicos de classes"
   ]
  },
  {
   "cell_type": "markdown",
   "id": "a26f9250",
   "metadata": {},
   "source": [
    "##### PCA"
   ]
  },
  {
   "cell_type": "code",
   "execution_count": null,
   "id": "350ef166",
   "metadata": {},
   "outputs": [],
   "source": [
    "import matplotlib.pyplot as plt\n",
    "from sklearn.decomposition import PCA\n",
    "\n",
    "pca = PCA(n_components=2)\n",
    "X_reduced = pca.fit_transform(X)\n",
    "\n",
    "print('Projecting %d-dimensional data to 2D' % X.shape[1])\n",
    "\n",
    "def plot_g(pyplot, title, colors, n_classes):\n",
    "    pyplot.scatter(X_reduced[:, 0], X_reduced[:, 1], c=colors, \n",
    "             edgecolor='none', alpha=0.7, s=40,\n",
    "             cmap=plt.cm.get_cmap('nipy_spectral', n_classes)\n",
    "           )\n",
    "    pyplot.colorbar()\n",
    "    pyplot.title(title)\n",
    "\n",
    "plt.figure(figsize=(10, 8)) # Tamanho da Figura\n",
    "plot_g(plt, 'Projeção 2D do Dados em PCA', mapa_cores, len(y_unique))\n",
    "plt.show()\n"
   ]
  },
  {
   "cell_type": "markdown",
   "id": "ee61099d",
   "metadata": {},
   "source": [
    "##### Plotando os Gráficos "
   ]
  },
  {
   "cell_type": "code",
   "execution_count": null,
   "id": "e39ef0cb",
   "metadata": {
    "scrolled": false
   },
   "outputs": [],
   "source": [
    "\n",
    "# plt.figure(figsize=(10*2, 7))\n",
    "\n",
    "# plt.subplot(1, 2, 1) # row 1, col 2 index 1\n",
    "# plt.scatter(X_reduced[:, 0], X_reduced[:, 1], c=labels, \n",
    "#             edgecolor='none', alpha=0.7, s=40,\n",
    "#             cmap=plt.cm.get_cmap('nipy_spectral', len(y_unique)))\n",
    "# plt.colorbar()\n",
    "# plt.title('Projeção KMeans com X Original')\n",
    "\n",
    "# plt.subplot(1, 2, 2) # row 1, col 2 index 1\n",
    "# plt.scatter(X_reduced[:, 0], X_reduced[:, 1], c=labels_PCA, \n",
    "#             edgecolor='none', alpha=0.7, s=40,\n",
    "#             cmap=plt.cm.get_cmap('nipy_spectral', len(y_unique)))\n",
    "# plt.colorbar()\n",
    "# plt.title('Projeção KMeans com X PCA')\n",
    "\n",
    "# plt.show()"
   ]
  },
  {
   "cell_type": "markdown",
   "id": "2c8acdd2",
   "metadata": {},
   "source": [
    "# Projeto\n",
    "##### A seguir é feita uma seleção aleátoria dos dados para cada algorítmo com KFold e em seguida o treinamento e avaliação de cada método. A ordem será a estimação dos parâmetros de (kNN, SVM, MLP (Rede Neural), NaiveBayes e Arvore de Decisão), e para cada estimação é selecionada avaliação do melhor parâmetro para cada algorítmo. Para o KNN o melhor numero de visinhos dentre [1, 2, 3, 4, 5, 6, 7, 8, 9, 10, 11, 12, 13, 14, 15], para o SVM o melhor kernel dentre [\"linear\", \"poly\", \"rbf\", \"sigmoid\"], e por fim para a rede neural a melhor função de ativação [\"identity\", \"logistic\", \"tanh\", \"relu\"] respectivamente. Por fim analinsando os resultados obitidos pelos scores "
   ]
  },
  {
   "cell_type": "code",
   "execution_count": null,
   "id": "b28d6b6d",
   "metadata": {},
   "outputs": [],
   "source": [
    "from sklearn.metrics import precision_score, recall_score, f1_score\n",
    "\n",
    "def get_scores(algoritmo, X_teste, y_teste, name):\n",
    "    y_pred = algoritmo.predict(X_teste)\n",
    "    score_p = precision_score(y_teste, y_pred, average='macro')\n",
    "    score_r = recall_score(y_teste, y_pred, average='macro')\n",
    "    score_f1 = f1_score(y_teste, y_pred, average='macro')\n",
    "\n",
    "    return pd.DataFrame(\n",
    "        [score_p, score_r, score_f1], \n",
    "        index = [\"Precision\", \"Recall\", \"F1\"], \n",
    "        columns=[name + \"_scores\"])\n"
   ]
  },
  {
   "cell_type": "markdown",
   "id": "93ebbcc6",
   "metadata": {},
   "source": [
    "### 1. kNN"
   ]
  },
  {
   "cell_type": "code",
   "execution_count": null,
   "id": "a3243cc2",
   "metadata": {},
   "outputs": [],
   "source": [
    "from sklearn.model_selection import train_test_split\n",
    "from sklearn.model_selection import KFold\n",
    "\n",
    "\n",
    "from sklearn.neighbors import KNeighborsClassifier\n",
    "\n",
    "X_treino, X_teste, y_treino, y_teste = train_test_split(X, y, test_size=0.3, random_state=42)\n",
    "\n",
    "valores_k = [1, 2, 3, 4, 5, 6, 7, 8, 9, 10, 11, 12, 13, 14, 15]\n",
    "resultados_knn = []\n",
    "\n",
    "for k in valores_k:\n",
    "    resultados_k = []\n",
    "    knn = KNeighborsClassifier(n_neighbors=k)\n",
    "    kf = KFold(n_splits=10, shuffle=True)\n",
    "    for index_train, index_valid in kf.split(X_treino):\n",
    "        X_train, X_validacao = X_treino.iloc[index_train], X_treino.iloc[index_valid]\n",
    "        y_train, y_validacao = y_treino.iloc[index_train], y_treino.iloc[index_valid]\n",
    "        knn.fit(X_train, y_train)\n",
    "        resultados_k.append(knn.score(X_validacao, y_validacao))\n",
    "    resultados_knn.append(sum(resultados_k)/len(resultados_k))\n",
    "# resultados_knn\n",
    "\n",
    "big_value = np.max(resultados_knn)\n",
    "\n",
    "mapped_values = dict(zip(valores_k, resultados_knn))\n",
    "\n",
    "better_knn = 0\n",
    "\n",
    "for m in mapped_values:\n",
    "    if mapped_values[m] == big_value:\n",
    "        better_knn = m\n",
    "        break\n",
    "\n",
    "print(dict(zip([\"O melhor Knn atual\", \"Maior valor\"], [better_knn, big_value])))\n",
    "\n",
    "mapped_values"
   ]
  },
  {
   "cell_type": "markdown",
   "id": "c1453ef8",
   "metadata": {},
   "source": [
    "##### O melhor k escolhido é agora usado  na classificação real do Knn"
   ]
  },
  {
   "cell_type": "code",
   "execution_count": null,
   "id": "52509718",
   "metadata": {},
   "outputs": [],
   "source": [
    "# Desempenho real do Knn\n",
    "\n",
    "knn = KNeighborsClassifier(n_neighbors=better_knn)\n",
    "knn.fit(X_treino, y_treino)\n",
    "knn_score = knn.score(X_teste, y_teste)\n",
    "knn_score"
   ]
  },
  {
   "cell_type": "markdown",
   "id": "2417fcab",
   "metadata": {},
   "source": [
    "##### Avaliação por Precisão, Recall e F1 do kNN"
   ]
  },
  {
   "cell_type": "code",
   "execution_count": null,
   "id": "a30fbdeb",
   "metadata": {},
   "outputs": [],
   "source": [
    "knn_result = get_scores(knn, X_teste, y_teste, \"knn\")"
   ]
  },
  {
   "cell_type": "markdown",
   "id": "639fa6e1",
   "metadata": {},
   "source": [
    "### 2. SVM"
   ]
  },
  {
   "cell_type": "code",
   "execution_count": null,
   "id": "18d135ab",
   "metadata": {},
   "outputs": [],
   "source": [
    "from sklearn.svm import SVC\n",
    "valores_kernel = [\"linear\", \"poly\", \"rbf\", \"sigmoid\"]\n",
    "resultados_svm = []\n",
    "\n",
    "for kernel in valores_kernel:\n",
    "    resultados_kernel = []\n",
    "    svc = SVC(kernel=kernel)\n",
    "    kf = KFold(n_splits=10, shuffle=True)\n",
    "    for index_train, index_valid in kf.split(X_treino):\n",
    "        X_train, X_validacao = X_treino.iloc[index_train], X_treino.iloc[index_valid]\n",
    "        y_train, y_validacao = y_treino.iloc[index_train], y_treino.iloc[index_valid]\n",
    "        svc.fit(X_train, y_train)\n",
    "        resultados_kernel.append(svc.score(X_validacao, y_validacao))\n",
    "    resultados_svm.append(sum(resultados_kernel)/len(resultados_kernel))\n",
    "\n",
    "\n",
    "big_value = np.max(resultados_svm)\n",
    "\n",
    "mapped_values = dict(zip(valores_kernel, resultados_svm))\n",
    "\n",
    "better_k = \"\"\n",
    "\n",
    "for m in mapped_values:\n",
    "    if mapped_values[m] == big_value:\n",
    "        better_k = m\n",
    "        break\n",
    "\n",
    "print(dict(zip([\"O melhor Kernel atual\", \"Maior valor\"], [better_k, big_value])))\n",
    "\n",
    "mapped_values"
   ]
  },
  {
   "cell_type": "markdown",
   "id": "9ff5c7bb",
   "metadata": {},
   "source": [
    "##### O melhor Kernel escolhido é usado na classificação real do SVM"
   ]
  },
  {
   "cell_type": "code",
   "execution_count": null,
   "id": "5a31d7cd",
   "metadata": {},
   "outputs": [],
   "source": [
    "svc = SVC(kernel=better_k)\n",
    "svc.fit(X_treino, y_treino)\n",
    "svc_score = svc.score(X_teste, y_teste)\n",
    "svc_score"
   ]
  },
  {
   "cell_type": "markdown",
   "id": "5075266a",
   "metadata": {},
   "source": [
    "##### Avaliação por Precisão, Recall e F1 do SVM"
   ]
  },
  {
   "cell_type": "code",
   "execution_count": null,
   "id": "4f93be8d",
   "metadata": {},
   "outputs": [],
   "source": [
    "svc_result = get_scores(svc, X_teste, y_teste, \"svc\")"
   ]
  },
  {
   "cell_type": "markdown",
   "id": "a412e091",
   "metadata": {},
   "source": [
    "### 3. MLP"
   ]
  },
  {
   "cell_type": "code",
   "execution_count": null,
   "id": "e9e4811c",
   "metadata": {},
   "outputs": [],
   "source": [
    "from sklearn.neural_network import MLPClassifier\n",
    "valores_ativacao = [\"identity\", \"logistic\", \"tanh\", \"relu\"]\n",
    "resultados_mlp = []\n",
    "\n",
    "for ativacao in valores_ativacao:\n",
    "    resultados_ativacao = []\n",
    "    mlp = MLPClassifier(activation=ativacao)\n",
    "    kf = KFold(n_splits=10, shuffle=True)\n",
    "    for index_train, index_valid in kf.split(X_treino):\n",
    "        X_train, X_validacao = X_treino.iloc[index_train], X_treino.iloc[index_valid]\n",
    "        y_train, y_validacao = y_treino.iloc[index_train], y_treino.iloc[index_valid]\n",
    "        mlp.fit(X_train, y_train)\n",
    "        resultados_ativacao.append(svc.score(X_validacao, y_validacao))\n",
    "    resultados_mlp.append(sum(resultados_ativacao)/len(resultados_ativacao))\n",
    "\n",
    "\n",
    "\n",
    "big_value = np.max(resultados_mlp)\n",
    "\n",
    "mapped_values = dict(zip(valores_ativacao, resultados_mlp))\n",
    "\n",
    "better_a = \"\"\n",
    "\n",
    "for m in mapped_values:\n",
    "    if mapped_values[m] == big_value:\n",
    "        better_a = m\n",
    "        break\n",
    "\n",
    "print(dict(zip([\"O melhor parametro de ativação atual\", \"Maior valor\"], [better_a, big_value])))\n",
    "mapped_values"
   ]
  },
  {
   "cell_type": "markdown",
   "id": "88765052",
   "metadata": {},
   "source": [
    "##### O melhor Valor de ativação escolhido é usado na classificação real do MLP"
   ]
  },
  {
   "cell_type": "code",
   "execution_count": null,
   "id": "0b19a0b0",
   "metadata": {},
   "outputs": [],
   "source": [
    "mlp = MLPClassifier(activation=better_a)\n",
    "mlp.fit(X_treino, y_treino)\n",
    "mlp_score = mlp.score(X_teste, y_teste)\n",
    "mlp_score"
   ]
  },
  {
   "cell_type": "markdown",
   "id": "4e9c3b0c",
   "metadata": {},
   "source": [
    "##### Avaliação por Precisão, Recall e F1 do MLP (Rede neural)"
   ]
  },
  {
   "cell_type": "code",
   "execution_count": null,
   "id": "18077eb0",
   "metadata": {},
   "outputs": [],
   "source": [
    "mlp_result = get_scores(mlp, X_teste, y_teste, \"mlp\")"
   ]
  },
  {
   "cell_type": "markdown",
   "id": "2c2df1fa",
   "metadata": {},
   "source": [
    "### 4. Naive Bayes"
   ]
  },
  {
   "cell_type": "code",
   "execution_count": null,
   "id": "cff7a044",
   "metadata": {},
   "outputs": [],
   "source": [
    "from sklearn.naive_bayes import GaussianNB\n",
    "\n",
    "gnb = GaussianNB()\n",
    "gnb.fit(X_treino, y_treino)\n",
    "gnb_score = gnb.score(X_teste, y_teste)\n",
    "\n",
    "gnb_score"
   ]
  },
  {
   "cell_type": "markdown",
   "id": "40b56aa8",
   "metadata": {},
   "source": [
    "##### Avaliação por Precisão, Recall e F1 do Naive Bayes"
   ]
  },
  {
   "cell_type": "code",
   "execution_count": null,
   "id": "14098426",
   "metadata": {},
   "outputs": [],
   "source": [
    "gnb_result = get_scores(gnb, X_teste, y_teste, \"gnb\")"
   ]
  },
  {
   "cell_type": "markdown",
   "id": "ccca577d",
   "metadata": {},
   "source": [
    "### 5. Arvore de Decisão"
   ]
  },
  {
   "cell_type": "code",
   "execution_count": null,
   "id": "099ea438",
   "metadata": {},
   "outputs": [],
   "source": [
    "from sklearn.tree import DecisionTreeClassifier\n",
    "\n",
    "arvore = DecisionTreeClassifier(criterion=\"entropy\")\n",
    "arvore.fit(X_treino, y_treino)\n",
    "arvore_score = arvore.score(X_teste, y_teste)\n",
    "arvore_score"
   ]
  },
  {
   "cell_type": "markdown",
   "id": "aec3f341",
   "metadata": {},
   "source": [
    "##### Avaliação por Precisão, Recall e F1 da Arvore de Decisão"
   ]
  },
  {
   "cell_type": "code",
   "execution_count": null,
   "id": "64867764",
   "metadata": {},
   "outputs": [],
   "source": [
    "arvore_result = get_scores(arvore, X_teste, y_teste, \"arvore\")"
   ]
  },
  {
   "cell_type": "markdown",
   "id": "90e02d69",
   "metadata": {},
   "source": [
    "### Salvando resultados em arquivo"
   ]
  },
  {
   "cell_type": "code",
   "execution_count": null,
   "id": "c526d83d",
   "metadata": {
    "scrolled": true
   },
   "outputs": [],
   "source": [
    "result = knn_result.join(svc_result).join(mlp_result).join(gnb_result).join(arvore_result)\n",
    "result.to_csv(\"resultados/abalone.csv\", encoding='utf-8', index=True)\n",
    "pd.read_csv(\"resultados/abalone.csv\", index_col=0)"
   ]
  },
  {
   "cell_type": "code",
   "execution_count": null,
   "id": "cb807d30",
   "metadata": {},
   "outputs": [],
   "source": []
  }
 ],
 "metadata": {
  "kernelspec": {
   "display_name": "rp-2021_1-uast",
   "language": "python",
   "name": "rp-2021_1-uast"
  },
  "language_info": {
   "codemirror_mode": {
    "name": "ipython",
    "version": 3
   },
   "file_extension": ".py",
   "mimetype": "text/x-python",
   "name": "python",
   "nbconvert_exporter": "python",
   "pygments_lexer": "ipython3",
   "version": "3.8.5"
  }
 },
 "nbformat": 4,
 "nbformat_minor": 5
}
