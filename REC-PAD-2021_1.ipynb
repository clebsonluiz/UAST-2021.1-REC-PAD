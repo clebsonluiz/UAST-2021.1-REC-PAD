{
 "cells": [
  {
   "cell_type": "markdown",
   "id": "50776575",
   "metadata": {},
   "source": [
    "# Imports"
   ]
  },
  {
   "cell_type": "code",
   "execution_count": null,
   "id": "ab351647",
   "metadata": {},
   "outputs": [],
   "source": [
    "\n",
    "import Orange\n",
    "import pandas as pd\n",
    "import numpy as np\n",
    "import matplotlib.pyplot as plt\n",
    "from scipy.stats import friedmanchisquare\n",
    "from scipy.stats import wilcoxon"
   ]
  },
  {
   "cell_type": "markdown",
   "id": "2247e271",
   "metadata": {},
   "source": [
    "### Pegando os resultados de cada base de dados"
   ]
  },
  {
   "cell_type": "code",
   "execution_count": null,
   "id": "13e3052c",
   "metadata": {},
   "outputs": [],
   "source": [
    "\n",
    "result_abalone = pd.read_csv('resultados/abalone.csv', index_col=0)\n",
    "result_balance = pd.read_csv('resultados/balance.csv', index_col=0)\n",
    "result_cogumelos = pd.read_csv('resultados/cogumelos.csv', index_col=0)\n",
    "result_ecoli = pd.read_csv('resultados/ecoli.csv', index_col=0)\n",
    "result_folhas = pd.read_csv('resultados/folhas.csv', index_col=0)\n",
    "result_habermans = pd.read_csv('resultados/habermans.csv', index_col=0)\n",
    "result_inflammations = pd.read_csv('resultados/inflammations.csv', index_col=0)\n",
    "\n",
    "result_jogodavelha = pd.read_csv('resultados/jogodavelha.csv', index_col=0)\n",
    "result_sementes = pd.read_csv('resultados/sementes.csv', index_col=0)\n",
    "result_tae = pd.read_csv('resultados/tae.csv', index_col=0)\n",
    "\n"
   ]
  },
  {
   "cell_type": "markdown",
   "id": "ecadb8a3",
   "metadata": {},
   "source": [
    "##### Filtrando apenas os dados do F-measure | F1"
   ]
  },
  {
   "cell_type": "code",
   "execution_count": null,
   "id": "801d5c85",
   "metadata": {},
   "outputs": [],
   "source": [
    "fmeasure_index = 2\n",
    "\n",
    "result_abalone = result_abalone.iloc[fmeasure_index:, :]\n",
    "result_balance = result_balance.iloc[fmeasure_index:, :]\n",
    "result_cogumelos = result_cogumelos.iloc[fmeasure_index:, :]\n",
    "result_ecoli = result_ecoli.iloc[fmeasure_index:, :]\n",
    "result_folhas = result_folhas.iloc[fmeasure_index:, :]\n",
    "result_habermans = result_habermans.iloc[fmeasure_index:, :]\n",
    "result_inflammations = result_inflammations.iloc[fmeasure_index:, :]\n",
    "result_jogodavelha = result_jogodavelha.iloc[fmeasure_index:, :]\n",
    "result_sementes = result_sementes.iloc[fmeasure_index:, :]\n",
    "result_tae = result_tae.iloc[fmeasure_index:, :]\n"
   ]
  },
  {
   "cell_type": "code",
   "execution_count": null,
   "id": "8fd9e4bf",
   "metadata": {},
   "outputs": [],
   "source": [
    "\n",
    "import inspect\n",
    "\n",
    "main_result = None\n",
    "\n",
    "def only_fmeasure(df):\n",
    "    fmeasure_index = 2\n",
    "    callers_local_vars = inspect.currentframe().f_back.f_locals.items()\n",
    "    l = [k for k, v in callers_local_vars if v is df]\n",
    "    new_index_name = l[0]\n",
    "    obj = df.rename(index={'F1': new_index_name})\n",
    "    return obj\n",
    "\n",
    "  \n",
    "main_result = only_fmeasure(result_abalone)\n",
    "main_result = main_result.append(only_fmeasure(result_balance))\n",
    "main_result = main_result.append(only_fmeasure(result_cogumelos))\n",
    "main_result = main_result.append(only_fmeasure(result_ecoli))\n",
    "main_result = main_result.append(only_fmeasure(result_folhas))\n",
    "main_result = main_result.append(only_fmeasure(result_habermans))\n",
    "main_result = main_result.append(only_fmeasure(result_inflammations))\n",
    "main_result = main_result.append(only_fmeasure(result_jogodavelha))\n",
    "main_result = main_result.append(only_fmeasure(result_sementes))\n",
    "main_result = main_result.append(only_fmeasure(result_tae))\n",
    "\n",
    "main_result.index.names = ['Datasets']\n",
    "main_result"
   ]
  },
  {
   "cell_type": "code",
   "execution_count": null,
   "id": "fb7bda54",
   "metadata": {},
   "outputs": [],
   "source": [
    "# main_result.describe()"
   ]
  },
  {
   "cell_type": "markdown",
   "id": "51d82423",
   "metadata": {},
   "source": [
    "##### Calculando a os rankings de cada base de dados"
   ]
  },
  {
   "cell_type": "code",
   "execution_count": null,
   "id": "dfd8c5cf",
   "metadata": {},
   "outputs": [],
   "source": [
    "from scipy.stats import rankdata\n",
    "\n",
    "# função para rankear cada linha de 1 a 5, empates são considerados valores iguais\n",
    "def ranking(row):\n",
    "    \n",
    "    r_len = len(row.values[0])\n",
    "    \n",
    "    u, v = np.unique(row, return_inverse=True)\n",
    "    temp_r = (np.cumsum(np.bincount(v)))[v]\n",
    "    rank = []\n",
    "    \n",
    "    for e in temp_r:\n",
    "        rank.append((r_len - e) + 1)\n",
    "\n",
    "    return [rank]\n",
    "\n",
    "i_bases = len(main_result.values)\n",
    "\n",
    "ranked_result = main_result.copy()\n",
    "\n",
    "for i in range(i_bases):\n",
    "    row = ranked_result.iloc[[i]]\n",
    "    temp = row.replace(row.values, ranking(row))\n",
    "    ranked_result.iloc[[i]] = temp\n",
    "\n",
    "ranked_result"
   ]
  },
  {
   "cell_type": "code",
   "execution_count": null,
   "id": "d56f52ef",
   "metadata": {},
   "outputs": [],
   "source": [
    "# main_result.describe()"
   ]
  },
  {
   "cell_type": "markdown",
   "id": "d8ae6c6c",
   "metadata": {},
   "source": [
    "##### Calculando a média dos rankings "
   ]
  },
  {
   "cell_type": "code",
   "execution_count": null,
   "id": "e54624b1",
   "metadata": {},
   "outputs": [],
   "source": [
    "media = []\n",
    "\n",
    "for col in ranked_result.columns:\n",
    "    media.append(np.median(ranked_result[col]))\n",
    "media"
   ]
  },
  {
   "cell_type": "markdown",
   "id": "ecbe5d28",
   "metadata": {},
   "source": [
    "##### Pegando os valores de cada algoritmo para gerar o P-value pelo teste de Friedman"
   ]
  },
  {
   "cell_type": "code",
   "execution_count": null,
   "id": "f0c750c9",
   "metadata": {},
   "outputs": [],
   "source": [
    "knn_scores = main_result[\"knn_scores\"].values\n",
    "svc_scores = main_result[\"svc_scores\"].values\n",
    "mlp_scores = main_result[\"mlp_scores\"].values\n",
    "gnb_scores = main_result[\"gnb_scores\"].values\n",
    "arvore_scores = main_result[\"arvore_scores\"].values\n",
    "\n",
    "\n",
    "stat, p_value = friedmanchisquare(knn_scores, svc_scores, mlp_scores, gnb_scores, arvore_scores)\n",
    "p_value"
   ]
  },
  {
   "cell_type": "markdown",
   "id": "9bf3b8ed",
   "metadata": {},
   "source": [
    "##### NEMENYI E DIAGRAMA CD"
   ]
  },
  {
   "cell_type": "code",
   "execution_count": null,
   "id": "09d06946",
   "metadata": {},
   "outputs": [],
   "source": [
    "names = main_result.columns.values\n",
    "\n",
    "avranks = media # RANKS MEDIOS\n",
    "\n",
    "cd = Orange.evaluation.scoring.compute_CD(avranks=avranks, n=10, alpha='0.05', test='nemenyi')\n",
    "cd"
   ]
  },
  {
   "cell_type": "code",
   "execution_count": null,
   "id": "670645f2",
   "metadata": {},
   "outputs": [],
   "source": [
    "Orange.evaluation.scoring.graph_ranks(avranks=avranks, names=names, cd=cd, filename=\"nemenyi-test\")"
   ]
  },
  {
   "cell_type": "code",
   "execution_count": null,
   "id": "0d655927",
   "metadata": {},
   "outputs": [],
   "source": []
  }
 ],
 "metadata": {
  "kernelspec": {
   "display_name": "rp-2021_1-uast",
   "language": "python",
   "name": "rp-2021_1-uast"
  },
  "language_info": {
   "codemirror_mode": {
    "name": "ipython",
    "version": 3
   },
   "file_extension": ".py",
   "mimetype": "text/x-python",
   "name": "python",
   "nbconvert_exporter": "python",
   "pygments_lexer": "ipython3",
   "version": "3.8.5"
  }
 },
 "nbformat": 4,
 "nbformat_minor": 5
}
