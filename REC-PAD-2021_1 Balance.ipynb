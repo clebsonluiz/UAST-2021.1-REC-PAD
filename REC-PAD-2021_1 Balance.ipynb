{
 "cells": [
  {
   "cell_type": "markdown",
   "id": "50776575",
   "metadata": {},
   "source": [
    "# Imports"
   ]
  },
  {
   "cell_type": "code",
   "execution_count": null,
   "id": "ab351647",
   "metadata": {},
   "outputs": [],
   "source": [
    "import pandas as pd \n",
    "import numpy as np"
   ]
  },
  {
   "cell_type": "markdown",
   "id": "2247e271",
   "metadata": {},
   "source": [
    "### Base com atributos numéricos"
   ]
  },
  {
   "cell_type": "code",
   "execution_count": null,
   "id": "13e3052c",
   "metadata": {},
   "outputs": [],
   "source": [
    "# Base tirada de https://archive.ics.uci.edu/ml/datasets/Balance+Scale\n",
    "\n",
    "balance = pd.read_csv('databases/balance-scale.csv',\n",
    "                      header=None, \n",
    "                      names=[\"Pendência\", \"Peso_E\", \"Distância_E\", \"Peso_D\", \"Distância_D\"])\n",
    "\n",
    "# Substituindo a string de pendência para valores compreenciveis\n",
    "balance = balance.replace({\n",
    "    \"B\": \"Balanceado\", \n",
    "    \"L\": \"Esquerda\", \n",
    "    \"R\": \"Direita\", \n",
    "})\n",
    "\n",
    "balance"
   ]
  },
  {
   "cell_type": "code",
   "execution_count": null,
   "id": "9911c871",
   "metadata": {},
   "outputs": [],
   "source": [
    "balance.describe()"
   ]
  },
  {
   "cell_type": "code",
   "execution_count": null,
   "id": "8f1fab8e",
   "metadata": {},
   "outputs": [],
   "source": [
    "balance.dtypes"
   ]
  },
  {
   "cell_type": "markdown",
   "id": "b1fc27b5",
   "metadata": {},
   "source": [
    "## Pré-Processamento Inicial"
   ]
  },
  {
   "cell_type": "code",
   "execution_count": null,
   "id": "71a2f694",
   "metadata": {},
   "outputs": [],
   "source": [
    "# Sem necessidade pois os atributos da base são numéricos\n",
    "\n",
    "# balance = pd.get_dummies(balance, \n",
    "#                          columns=[], \n",
    "#                          prefix=[])\n",
    "# balance"
   ]
  },
  {
   "cell_type": "code",
   "execution_count": null,
   "id": "6ebad927",
   "metadata": {},
   "outputs": [],
   "source": [
    "# Sem necessidade pois os atributos da base são apenas numericos\n",
    "\n",
    "# from sklearn.preprocessing import OrdinalEncoder\n",
    "# atributos = [\n",
    "#                          \"Peso_E\", \"Distância_E\", \"Peso_D\", \"Distância_D\"\n",
    "#                       ]\n",
    "# enc = OrdinalEncoder()\n",
    "# enc.fit(balance[atributos])\n",
    "# balance[atributos] = enc.transform(balance[atributos])\n",
    "# balance"
   ]
  },
  {
   "cell_type": "code",
   "execution_count": null,
   "id": "8479d6cb",
   "metadata": {},
   "outputs": [],
   "source": [
    "from sklearn.preprocessing import StandardScaler\n",
    "\n",
    "atributos = [\"Peso_E\", \"Distância_E\", \"Peso_D\", \"Distância_D\"]\n",
    "\n",
    "balance[atributos] = StandardScaler().fit_transform(balance[atributos])\n",
    "#balance = pd.DataFrame(balance)\n",
    "\n",
    "balance\n"
   ]
  },
  {
   "cell_type": "markdown",
   "id": "a432d8e9",
   "metadata": {},
   "source": [
    "## Clusterizando a Balança\n",
    "##### Selecionando o X e y"
   ]
  },
  {
   "cell_type": "code",
   "execution_count": null,
   "id": "c5741423",
   "metadata": {},
   "outputs": [],
   "source": [
    "# Selecionando o X e o y\n",
    "\n",
    "\n",
    "# X = jogo_da_velha[atributos]\n",
    "X = balance.iloc[:, 1:].values # Atributos do Data Frame do Pandas\n",
    "y = balance.iloc[:, :1].values # Classes do Data Frame do Pandas\n",
    "\n",
    "y = np.squeeze(y) # Converter em um unico Array quando usar o dataFrame do Pandas\n",
    "\n",
    "y_unique = np.unique(y)\n",
    "\n",
    "# Atualizando o eixo Y\n",
    "for i in range(len(y_unique)):\n",
    "    y = [i if y_unique[i] == e else e for e in y]\n",
    "y = np.array(y)\n",
    "\n",
    "y_unique # Valores unicos de classes"
   ]
  },
  {
   "cell_type": "markdown",
   "id": "eca6aefd",
   "metadata": {},
   "source": [
    "##### Exemplos de Algoritmos para cálculos de distâncias"
   ]
  },
  {
   "cell_type": "code",
   "execution_count": null,
   "id": "b4795404",
   "metadata": {},
   "outputs": [],
   "source": [
    "# from sklearn.metrics.pairwise import pairwise_distances, cosine_similarity\n",
    "\n",
    "\n",
    "# eucl = pairwise_distances(X[0].reshape(1, -1), X[1].reshape(1, -1), 'euclidean')\n",
    "\n",
    "# manh = pairwise_distances(X[0].reshape(1, -1), X[1].reshape(1, -1), 'manhattan')\n",
    "\n",
    "# ass_cos = cosine_similarity(X[0].reshape(1, -1), X[1].reshape(1, -1))\n",
    "\n",
    "# print(\"Euclidiano: \", eucl)\n",
    "# print(\"Manhattan: \", manh)\n",
    "# print(\"Assimilaridade do Cosseno: \", ass_cos)"
   ]
  },
  {
   "cell_type": "markdown",
   "id": "a26f9250",
   "metadata": {},
   "source": [
    "##### PCA"
   ]
  },
  {
   "cell_type": "code",
   "execution_count": null,
   "id": "350ef166",
   "metadata": {},
   "outputs": [],
   "source": [
    "import matplotlib.pyplot as plt\n",
    "from sklearn.decomposition import PCA\n",
    "\n",
    "pca = PCA(n_components=2)\n",
    "X_reduced = pca.fit_transform(X)\n",
    "\n",
    "print('Projecting %d-dimensional data to 2D' % X.shape[1])\n",
    "\n",
    "def plot_g(pyplot, title, colors, n_classes):\n",
    "    pyplot.scatter(X_reduced[:, 0], X_reduced[:, 1], c=colors, \n",
    "             edgecolor='none', alpha=0.7, s=40,\n",
    "             cmap=plt.cm.get_cmap('nipy_spectral', n_classes)\n",
    "           )\n",
    "    pyplot.colorbar()\n",
    "    pyplot.title(title)\n",
    "\n",
    "plt.figure(figsize=(10, 8)) # Tamanho da Figura\n",
    "plot_g(plt, 'Projeção 2D do Dados em PCA', y, len(y_unique))\n",
    "plt.show()\n"
   ]
  },
  {
   "cell_type": "markdown",
   "id": "8eba0817",
   "metadata": {},
   "source": [
    "##### KMeans com a base original e com o PCA"
   ]
  },
  {
   "cell_type": "code",
   "execution_count": null,
   "id": "7d1cd172",
   "metadata": {},
   "outputs": [],
   "source": [
    "from sklearn.cluster import KMeans\n",
    "\n",
    "kmeans = KMeans(n_clusters=len(y_unique)).fit(X)\n",
    "labels = kmeans.labels_\n",
    "\n",
    "kmeans_PCA = KMeans(n_clusters=len(y_unique)).fit(X_reduced)\n",
    "labels_PCA = kmeans_PCA.labels_\n"
   ]
  },
  {
   "cell_type": "markdown",
   "id": "ee61099d",
   "metadata": {},
   "source": [
    "##### Plotando os Gráficos "
   ]
  },
  {
   "cell_type": "code",
   "execution_count": null,
   "id": "e39ef0cb",
   "metadata": {},
   "outputs": [],
   "source": [
    "\n",
    "plt.figure(figsize=(10*2, 7))\n",
    "\n",
    "plt.subplot(1, 2, 1) # row 1, col 2 index 1\n",
    "plt.scatter(X_reduced[:, 0], X_reduced[:, 1], c=labels, \n",
    "            edgecolor='none', alpha=0.7, s=40,\n",
    "            cmap=plt.cm.get_cmap('nipy_spectral', len(y_unique)))\n",
    "plt.colorbar()\n",
    "plt.title('Projeção KMeans com X Original')\n",
    "\n",
    "plt.subplot(1, 2, 2) # row 1, col 2 index 1\n",
    "plt.scatter(X_reduced[:, 0], X_reduced[:, 1], c=labels_PCA, \n",
    "            edgecolor='none', alpha=0.7, s=40,\n",
    "            cmap=plt.cm.get_cmap('nipy_spectral', len(y_unique)))\n",
    "plt.colorbar()\n",
    "plt.title('Projeção KMeans com X PCA')\n",
    "\n",
    "plt.show()"
   ]
  },
  {
   "cell_type": "markdown",
   "id": "adf62954",
   "metadata": {},
   "source": [
    "##### Comparando o KMeans, KMeans PCA e o y Original"
   ]
  },
  {
   "cell_type": "code",
   "execution_count": null,
   "id": "c51cfd31",
   "metadata": {},
   "outputs": [],
   "source": [
    "print(\"Comparação: \")\n",
    "\n",
    "unique, counts = np.unique(labels, return_counts=True) # KMeans\n",
    "print(\"KMeans X: \" , dict(zip(unique, counts)))\n",
    "\n",
    "unique, counts = np.unique(labels_PCA, return_counts=True) # KMeans PCA\n",
    "print(\"KM.. PCA: \", dict(zip(unique, counts)))\n",
    "\n",
    "unique, counts = np.unique(y, return_counts=True) # Original\n",
    "print(\"Original: \", dict(zip(unique, counts)))\n"
   ]
  },
  {
   "cell_type": "markdown",
   "id": "174c23d1",
   "metadata": {},
   "source": [
    "##### Usando as metricas de avaliação para comparar os resultados com e sem o PCA"
   ]
  },
  {
   "cell_type": "markdown",
   "id": "b8702f8b",
   "metadata": {},
   "source": [
    "##### Sem PCA"
   ]
  },
  {
   "cell_type": "code",
   "execution_count": null,
   "id": "3d67ac4a",
   "metadata": {},
   "outputs": [],
   "source": [
    "from sklearn import metrics\n",
    "from sklearn.metrics.cluster import v_measure_score\n",
    "\n",
    "ari = metrics.adjusted_rand_score(y, labels)\n",
    "silh = metrics.silhouette_score(X, labels, metric='euclidean')\n",
    "ami = metrics.adjusted_mutual_info_score(y, labels)\n",
    "vm = v_measure_score(y, labels)"
   ]
  },
  {
   "cell_type": "markdown",
   "id": "e8933b68",
   "metadata": {},
   "source": [
    "##### Com PCA"
   ]
  },
  {
   "cell_type": "code",
   "execution_count": null,
   "id": "cca833fb",
   "metadata": {},
   "outputs": [],
   "source": [
    "ari_pca = metrics.adjusted_rand_score(y, labels_PCA)\n",
    "silh_pca = metrics.silhouette_score(X_reduced, labels_PCA, metric='euclidean')\n",
    "ami_pca = metrics.adjusted_mutual_info_score(y, labels_PCA)\n",
    "vm_pca = v_measure_score(y, labels_PCA)"
   ]
  },
  {
   "cell_type": "markdown",
   "id": "a186ac47",
   "metadata": {},
   "source": [
    "##### Tabela de comparação dos resultados"
   ]
  },
  {
   "cell_type": "code",
   "execution_count": null,
   "id": "b36e500b",
   "metadata": {},
   "outputs": [],
   "source": [
    "data = {\n",
    "# \"Base de dados\": [], \n",
    "\"Pré-processamento\":['Com PCA', 'Sem PCA'], \n",
    "\"SILHUETA\":[silh_pca, silh], \n",
    "\"ARI\": [ari_pca, ari], \n",
    "\"AMI\": [ami_pca, ami], \n",
    "\"V-M\":[vm_pca, vm]\n",
    "}\n",
    "\n",
    "print(pd.DataFrame(data))"
   ]
  },
  {
   "cell_type": "code",
   "execution_count": null,
   "id": "013eadc2",
   "metadata": {},
   "outputs": [],
   "source": []
  }
 ],
 "metadata": {
  "kernelspec": {
   "display_name": "rp-2021_1-uast",
   "language": "python",
   "name": "rp-2021_1-uast"
  },
  "language_info": {
   "codemirror_mode": {
    "name": "ipython",
    "version": 3
   },
   "file_extension": ".py",
   "mimetype": "text/x-python",
   "name": "python",
   "nbconvert_exporter": "python",
   "pygments_lexer": "ipython3",
   "version": "3.8.5"
  }
 },
 "nbformat": 4,
 "nbformat_minor": 5
}
