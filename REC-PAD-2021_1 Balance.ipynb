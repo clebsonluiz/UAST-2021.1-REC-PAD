{
 "cells": [
  {
   "cell_type": "markdown",
   "id": "50776575",
   "metadata": {},
   "source": [
    "# Imports"
   ]
  },
  {
   "cell_type": "code",
   "execution_count": 3,
   "id": "ab351647",
   "metadata": {},
   "outputs": [],
   "source": [
    "import pandas as pd \n",
    "import numpy as np"
   ]
  },
  {
   "cell_type": "markdown",
   "id": "2247e271",
   "metadata": {},
   "source": [
    "### Base com atributos numéricos"
   ]
  },
  {
   "cell_type": "code",
   "execution_count": 9,
   "id": "13e3052c",
   "metadata": {},
   "outputs": [
    {
     "data": {
      "text/html": [
       "<div>\n",
       "<style scoped>\n",
       "    .dataframe tbody tr th:only-of-type {\n",
       "        vertical-align: middle;\n",
       "    }\n",
       "\n",
       "    .dataframe tbody tr th {\n",
       "        vertical-align: top;\n",
       "    }\n",
       "\n",
       "    .dataframe thead th {\n",
       "        text-align: right;\n",
       "    }\n",
       "</style>\n",
       "<table border=\"1\" class=\"dataframe\">\n",
       "  <thead>\n",
       "    <tr style=\"text-align: right;\">\n",
       "      <th></th>\n",
       "      <th>Pendência</th>\n",
       "      <th>Peso_E</th>\n",
       "      <th>Distância_E</th>\n",
       "      <th>Peso_D</th>\n",
       "      <th>Distância_D</th>\n",
       "    </tr>\n",
       "  </thead>\n",
       "  <tbody>\n",
       "    <tr>\n",
       "      <th>0</th>\n",
       "      <td>B</td>\n",
       "      <td>1</td>\n",
       "      <td>1</td>\n",
       "      <td>1</td>\n",
       "      <td>1</td>\n",
       "    </tr>\n",
       "    <tr>\n",
       "      <th>1</th>\n",
       "      <td>R</td>\n",
       "      <td>1</td>\n",
       "      <td>1</td>\n",
       "      <td>1</td>\n",
       "      <td>2</td>\n",
       "    </tr>\n",
       "    <tr>\n",
       "      <th>2</th>\n",
       "      <td>R</td>\n",
       "      <td>1</td>\n",
       "      <td>1</td>\n",
       "      <td>1</td>\n",
       "      <td>3</td>\n",
       "    </tr>\n",
       "    <tr>\n",
       "      <th>3</th>\n",
       "      <td>R</td>\n",
       "      <td>1</td>\n",
       "      <td>1</td>\n",
       "      <td>1</td>\n",
       "      <td>4</td>\n",
       "    </tr>\n",
       "    <tr>\n",
       "      <th>4</th>\n",
       "      <td>R</td>\n",
       "      <td>1</td>\n",
       "      <td>1</td>\n",
       "      <td>1</td>\n",
       "      <td>5</td>\n",
       "    </tr>\n",
       "    <tr>\n",
       "      <th>...</th>\n",
       "      <td>...</td>\n",
       "      <td>...</td>\n",
       "      <td>...</td>\n",
       "      <td>...</td>\n",
       "      <td>...</td>\n",
       "    </tr>\n",
       "    <tr>\n",
       "      <th>620</th>\n",
       "      <td>L</td>\n",
       "      <td>5</td>\n",
       "      <td>5</td>\n",
       "      <td>5</td>\n",
       "      <td>1</td>\n",
       "    </tr>\n",
       "    <tr>\n",
       "      <th>621</th>\n",
       "      <td>L</td>\n",
       "      <td>5</td>\n",
       "      <td>5</td>\n",
       "      <td>5</td>\n",
       "      <td>2</td>\n",
       "    </tr>\n",
       "    <tr>\n",
       "      <th>622</th>\n",
       "      <td>L</td>\n",
       "      <td>5</td>\n",
       "      <td>5</td>\n",
       "      <td>5</td>\n",
       "      <td>3</td>\n",
       "    </tr>\n",
       "    <tr>\n",
       "      <th>623</th>\n",
       "      <td>L</td>\n",
       "      <td>5</td>\n",
       "      <td>5</td>\n",
       "      <td>5</td>\n",
       "      <td>4</td>\n",
       "    </tr>\n",
       "    <tr>\n",
       "      <th>624</th>\n",
       "      <td>B</td>\n",
       "      <td>5</td>\n",
       "      <td>5</td>\n",
       "      <td>5</td>\n",
       "      <td>5</td>\n",
       "    </tr>\n",
       "  </tbody>\n",
       "</table>\n",
       "<p>625 rows × 5 columns</p>\n",
       "</div>"
      ],
      "text/plain": [
       "    Pendência  Peso_E  Distância_E  Peso_D  Distância_D\n",
       "0           B       1            1       1            1\n",
       "1           R       1            1       1            2\n",
       "2           R       1            1       1            3\n",
       "3           R       1            1       1            4\n",
       "4           R       1            1       1            5\n",
       "..        ...     ...          ...     ...          ...\n",
       "620         L       5            5       5            1\n",
       "621         L       5            5       5            2\n",
       "622         L       5            5       5            3\n",
       "623         L       5            5       5            4\n",
       "624         B       5            5       5            5\n",
       "\n",
       "[625 rows x 5 columns]"
      ]
     },
     "execution_count": 9,
     "metadata": {},
     "output_type": "execute_result"
    }
   ],
   "source": [
    "# Base tirada de https://archive.ics.uci.edu/ml/datasets/Balance+Scale\n",
    "\n",
    "balance = pd.read_csv('databases/balance-scale.csv',\n",
    "                      header=None, \n",
    "                      names=[\"Pendência\", \"Peso_E\", \"Distância_E\", \"Peso_D\", \"Distância_D\"])\n",
    "\n",
    "# Substituindo a string de pendência para valores compreenciveis\n",
    "# balance = balance.replace({\n",
    "#     \"B\": \"Balanceado\", \n",
    "#     \"L\": \"Esquerda\", \n",
    "#     \"R\": \"Direita\", \n",
    "# })\n",
    "\n",
    "balance"
   ]
  },
  {
   "cell_type": "code",
   "execution_count": 5,
   "id": "9911c871",
   "metadata": {},
   "outputs": [
    {
     "data": {
      "text/html": [
       "<div>\n",
       "<style scoped>\n",
       "    .dataframe tbody tr th:only-of-type {\n",
       "        vertical-align: middle;\n",
       "    }\n",
       "\n",
       "    .dataframe tbody tr th {\n",
       "        vertical-align: top;\n",
       "    }\n",
       "\n",
       "    .dataframe thead th {\n",
       "        text-align: right;\n",
       "    }\n",
       "</style>\n",
       "<table border=\"1\" class=\"dataframe\">\n",
       "  <thead>\n",
       "    <tr style=\"text-align: right;\">\n",
       "      <th></th>\n",
       "      <th>Peso_E</th>\n",
       "      <th>Distância_E</th>\n",
       "      <th>Peso_D</th>\n",
       "      <th>Distância_D</th>\n",
       "    </tr>\n",
       "  </thead>\n",
       "  <tbody>\n",
       "    <tr>\n",
       "      <th>count</th>\n",
       "      <td>625.000000</td>\n",
       "      <td>625.000000</td>\n",
       "      <td>625.000000</td>\n",
       "      <td>625.000000</td>\n",
       "    </tr>\n",
       "    <tr>\n",
       "      <th>mean</th>\n",
       "      <td>3.000000</td>\n",
       "      <td>3.000000</td>\n",
       "      <td>3.000000</td>\n",
       "      <td>3.000000</td>\n",
       "    </tr>\n",
       "    <tr>\n",
       "      <th>std</th>\n",
       "      <td>1.415346</td>\n",
       "      <td>1.415346</td>\n",
       "      <td>1.415346</td>\n",
       "      <td>1.415346</td>\n",
       "    </tr>\n",
       "    <tr>\n",
       "      <th>min</th>\n",
       "      <td>1.000000</td>\n",
       "      <td>1.000000</td>\n",
       "      <td>1.000000</td>\n",
       "      <td>1.000000</td>\n",
       "    </tr>\n",
       "    <tr>\n",
       "      <th>25%</th>\n",
       "      <td>2.000000</td>\n",
       "      <td>2.000000</td>\n",
       "      <td>2.000000</td>\n",
       "      <td>2.000000</td>\n",
       "    </tr>\n",
       "    <tr>\n",
       "      <th>50%</th>\n",
       "      <td>3.000000</td>\n",
       "      <td>3.000000</td>\n",
       "      <td>3.000000</td>\n",
       "      <td>3.000000</td>\n",
       "    </tr>\n",
       "    <tr>\n",
       "      <th>75%</th>\n",
       "      <td>4.000000</td>\n",
       "      <td>4.000000</td>\n",
       "      <td>4.000000</td>\n",
       "      <td>4.000000</td>\n",
       "    </tr>\n",
       "    <tr>\n",
       "      <th>max</th>\n",
       "      <td>5.000000</td>\n",
       "      <td>5.000000</td>\n",
       "      <td>5.000000</td>\n",
       "      <td>5.000000</td>\n",
       "    </tr>\n",
       "  </tbody>\n",
       "</table>\n",
       "</div>"
      ],
      "text/plain": [
       "           Peso_E  Distância_E      Peso_D  Distância_D\n",
       "count  625.000000   625.000000  625.000000   625.000000\n",
       "mean     3.000000     3.000000    3.000000     3.000000\n",
       "std      1.415346     1.415346    1.415346     1.415346\n",
       "min      1.000000     1.000000    1.000000     1.000000\n",
       "25%      2.000000     2.000000    2.000000     2.000000\n",
       "50%      3.000000     3.000000    3.000000     3.000000\n",
       "75%      4.000000     4.000000    4.000000     4.000000\n",
       "max      5.000000     5.000000    5.000000     5.000000"
      ]
     },
     "execution_count": 5,
     "metadata": {},
     "output_type": "execute_result"
    }
   ],
   "source": [
    "balance.describe()"
   ]
  },
  {
   "cell_type": "code",
   "execution_count": 6,
   "id": "8f1fab8e",
   "metadata": {},
   "outputs": [
    {
     "data": {
      "text/plain": [
       "Pendência      object\n",
       "Peso_E          int64\n",
       "Distância_E     int64\n",
       "Peso_D          int64\n",
       "Distância_D     int64\n",
       "dtype: object"
      ]
     },
     "execution_count": 6,
     "metadata": {},
     "output_type": "execute_result"
    }
   ],
   "source": [
    "balance.dtypes"
   ]
  },
  {
   "cell_type": "code",
   "execution_count": 8,
   "id": "71a2f694",
   "metadata": {},
   "outputs": [],
   "source": [
    "# balance = pd.get_dummies(balance, \n",
    "#                          columns=[\"Pendência\"], \n",
    "#                          prefix=[\"Classe\"])\n",
    "# balance"
   ]
  },
  {
   "cell_type": "code",
   "execution_count": 10,
   "id": "6ebad927",
   "metadata": {},
   "outputs": [
    {
     "data": {
      "text/html": [
       "<div>\n",
       "<style scoped>\n",
       "    .dataframe tbody tr th:only-of-type {\n",
       "        vertical-align: middle;\n",
       "    }\n",
       "\n",
       "    .dataframe tbody tr th {\n",
       "        vertical-align: top;\n",
       "    }\n",
       "\n",
       "    .dataframe thead th {\n",
       "        text-align: right;\n",
       "    }\n",
       "</style>\n",
       "<table border=\"1\" class=\"dataframe\">\n",
       "  <thead>\n",
       "    <tr style=\"text-align: right;\">\n",
       "      <th></th>\n",
       "      <th>Pendência</th>\n",
       "      <th>Peso_E</th>\n",
       "      <th>Distância_E</th>\n",
       "      <th>Peso_D</th>\n",
       "      <th>Distância_D</th>\n",
       "    </tr>\n",
       "  </thead>\n",
       "  <tbody>\n",
       "    <tr>\n",
       "      <th>0</th>\n",
       "      <td>B</td>\n",
       "      <td>0.0</td>\n",
       "      <td>0.0</td>\n",
       "      <td>0.0</td>\n",
       "      <td>0.0</td>\n",
       "    </tr>\n",
       "    <tr>\n",
       "      <th>1</th>\n",
       "      <td>R</td>\n",
       "      <td>0.0</td>\n",
       "      <td>0.0</td>\n",
       "      <td>0.0</td>\n",
       "      <td>1.0</td>\n",
       "    </tr>\n",
       "    <tr>\n",
       "      <th>2</th>\n",
       "      <td>R</td>\n",
       "      <td>0.0</td>\n",
       "      <td>0.0</td>\n",
       "      <td>0.0</td>\n",
       "      <td>2.0</td>\n",
       "    </tr>\n",
       "    <tr>\n",
       "      <th>3</th>\n",
       "      <td>R</td>\n",
       "      <td>0.0</td>\n",
       "      <td>0.0</td>\n",
       "      <td>0.0</td>\n",
       "      <td>3.0</td>\n",
       "    </tr>\n",
       "    <tr>\n",
       "      <th>4</th>\n",
       "      <td>R</td>\n",
       "      <td>0.0</td>\n",
       "      <td>0.0</td>\n",
       "      <td>0.0</td>\n",
       "      <td>4.0</td>\n",
       "    </tr>\n",
       "    <tr>\n",
       "      <th>...</th>\n",
       "      <td>...</td>\n",
       "      <td>...</td>\n",
       "      <td>...</td>\n",
       "      <td>...</td>\n",
       "      <td>...</td>\n",
       "    </tr>\n",
       "    <tr>\n",
       "      <th>620</th>\n",
       "      <td>L</td>\n",
       "      <td>4.0</td>\n",
       "      <td>4.0</td>\n",
       "      <td>4.0</td>\n",
       "      <td>0.0</td>\n",
       "    </tr>\n",
       "    <tr>\n",
       "      <th>621</th>\n",
       "      <td>L</td>\n",
       "      <td>4.0</td>\n",
       "      <td>4.0</td>\n",
       "      <td>4.0</td>\n",
       "      <td>1.0</td>\n",
       "    </tr>\n",
       "    <tr>\n",
       "      <th>622</th>\n",
       "      <td>L</td>\n",
       "      <td>4.0</td>\n",
       "      <td>4.0</td>\n",
       "      <td>4.0</td>\n",
       "      <td>2.0</td>\n",
       "    </tr>\n",
       "    <tr>\n",
       "      <th>623</th>\n",
       "      <td>L</td>\n",
       "      <td>4.0</td>\n",
       "      <td>4.0</td>\n",
       "      <td>4.0</td>\n",
       "      <td>3.0</td>\n",
       "    </tr>\n",
       "    <tr>\n",
       "      <th>624</th>\n",
       "      <td>B</td>\n",
       "      <td>4.0</td>\n",
       "      <td>4.0</td>\n",
       "      <td>4.0</td>\n",
       "      <td>4.0</td>\n",
       "    </tr>\n",
       "  </tbody>\n",
       "</table>\n",
       "<p>625 rows × 5 columns</p>\n",
       "</div>"
      ],
      "text/plain": [
       "    Pendência  Peso_E  Distância_E  Peso_D  Distância_D\n",
       "0           B     0.0          0.0     0.0          0.0\n",
       "1           R     0.0          0.0     0.0          1.0\n",
       "2           R     0.0          0.0     0.0          2.0\n",
       "3           R     0.0          0.0     0.0          3.0\n",
       "4           R     0.0          0.0     0.0          4.0\n",
       "..        ...     ...          ...     ...          ...\n",
       "620         L     4.0          4.0     4.0          0.0\n",
       "621         L     4.0          4.0     4.0          1.0\n",
       "622         L     4.0          4.0     4.0          2.0\n",
       "623         L     4.0          4.0     4.0          3.0\n",
       "624         B     4.0          4.0     4.0          4.0\n",
       "\n",
       "[625 rows x 5 columns]"
      ]
     },
     "execution_count": 10,
     "metadata": {},
     "output_type": "execute_result"
    }
   ],
   "source": [
    "from sklearn.preprocessing import OrdinalEncoder\n",
    "atributos = [\n",
    "                         \"Peso_E\", \"Distância_E\", \"Peso_D\", \"Distância_D\"\n",
    "                      ]\n",
    "enc = OrdinalEncoder()\n",
    "enc.fit(balance[atributos])\n",
    "balance[atributos] = enc.transform(balance[atributos])\n",
    "balance"
   ]
  },
  {
   "cell_type": "code",
   "execution_count": 11,
   "id": "8479d6cb",
   "metadata": {},
   "outputs": [
    {
     "data": {
      "text/html": [
       "<div>\n",
       "<style scoped>\n",
       "    .dataframe tbody tr th:only-of-type {\n",
       "        vertical-align: middle;\n",
       "    }\n",
       "\n",
       "    .dataframe tbody tr th {\n",
       "        vertical-align: top;\n",
       "    }\n",
       "\n",
       "    .dataframe thead th {\n",
       "        text-align: right;\n",
       "    }\n",
       "</style>\n",
       "<table border=\"1\" class=\"dataframe\">\n",
       "  <thead>\n",
       "    <tr style=\"text-align: right;\">\n",
       "      <th></th>\n",
       "      <th>Pendência</th>\n",
       "      <th>Peso_E</th>\n",
       "      <th>Distância_E</th>\n",
       "      <th>Peso_D</th>\n",
       "      <th>Distância_D</th>\n",
       "    </tr>\n",
       "  </thead>\n",
       "  <tbody>\n",
       "    <tr>\n",
       "      <th>0</th>\n",
       "      <td>B</td>\n",
       "      <td>-1.414214</td>\n",
       "      <td>-1.414214</td>\n",
       "      <td>-1.414214</td>\n",
       "      <td>-1.414214</td>\n",
       "    </tr>\n",
       "    <tr>\n",
       "      <th>1</th>\n",
       "      <td>R</td>\n",
       "      <td>-1.414214</td>\n",
       "      <td>-1.414214</td>\n",
       "      <td>-1.414214</td>\n",
       "      <td>-0.707107</td>\n",
       "    </tr>\n",
       "    <tr>\n",
       "      <th>2</th>\n",
       "      <td>R</td>\n",
       "      <td>-1.414214</td>\n",
       "      <td>-1.414214</td>\n",
       "      <td>-1.414214</td>\n",
       "      <td>0.000000</td>\n",
       "    </tr>\n",
       "    <tr>\n",
       "      <th>3</th>\n",
       "      <td>R</td>\n",
       "      <td>-1.414214</td>\n",
       "      <td>-1.414214</td>\n",
       "      <td>-1.414214</td>\n",
       "      <td>0.707107</td>\n",
       "    </tr>\n",
       "    <tr>\n",
       "      <th>4</th>\n",
       "      <td>R</td>\n",
       "      <td>-1.414214</td>\n",
       "      <td>-1.414214</td>\n",
       "      <td>-1.414214</td>\n",
       "      <td>1.414214</td>\n",
       "    </tr>\n",
       "    <tr>\n",
       "      <th>...</th>\n",
       "      <td>...</td>\n",
       "      <td>...</td>\n",
       "      <td>...</td>\n",
       "      <td>...</td>\n",
       "      <td>...</td>\n",
       "    </tr>\n",
       "    <tr>\n",
       "      <th>620</th>\n",
       "      <td>L</td>\n",
       "      <td>1.414214</td>\n",
       "      <td>1.414214</td>\n",
       "      <td>1.414214</td>\n",
       "      <td>-1.414214</td>\n",
       "    </tr>\n",
       "    <tr>\n",
       "      <th>621</th>\n",
       "      <td>L</td>\n",
       "      <td>1.414214</td>\n",
       "      <td>1.414214</td>\n",
       "      <td>1.414214</td>\n",
       "      <td>-0.707107</td>\n",
       "    </tr>\n",
       "    <tr>\n",
       "      <th>622</th>\n",
       "      <td>L</td>\n",
       "      <td>1.414214</td>\n",
       "      <td>1.414214</td>\n",
       "      <td>1.414214</td>\n",
       "      <td>0.000000</td>\n",
       "    </tr>\n",
       "    <tr>\n",
       "      <th>623</th>\n",
       "      <td>L</td>\n",
       "      <td>1.414214</td>\n",
       "      <td>1.414214</td>\n",
       "      <td>1.414214</td>\n",
       "      <td>0.707107</td>\n",
       "    </tr>\n",
       "    <tr>\n",
       "      <th>624</th>\n",
       "      <td>B</td>\n",
       "      <td>1.414214</td>\n",
       "      <td>1.414214</td>\n",
       "      <td>1.414214</td>\n",
       "      <td>1.414214</td>\n",
       "    </tr>\n",
       "  </tbody>\n",
       "</table>\n",
       "<p>625 rows × 5 columns</p>\n",
       "</div>"
      ],
      "text/plain": [
       "    Pendência    Peso_E  Distância_E    Peso_D  Distância_D\n",
       "0           B -1.414214    -1.414214 -1.414214    -1.414214\n",
       "1           R -1.414214    -1.414214 -1.414214    -0.707107\n",
       "2           R -1.414214    -1.414214 -1.414214     0.000000\n",
       "3           R -1.414214    -1.414214 -1.414214     0.707107\n",
       "4           R -1.414214    -1.414214 -1.414214     1.414214\n",
       "..        ...       ...          ...       ...          ...\n",
       "620         L  1.414214     1.414214  1.414214    -1.414214\n",
       "621         L  1.414214     1.414214  1.414214    -0.707107\n",
       "622         L  1.414214     1.414214  1.414214     0.000000\n",
       "623         L  1.414214     1.414214  1.414214     0.707107\n",
       "624         B  1.414214     1.414214  1.414214     1.414214\n",
       "\n",
       "[625 rows x 5 columns]"
      ]
     },
     "execution_count": 11,
     "metadata": {},
     "output_type": "execute_result"
    }
   ],
   "source": [
    "from sklearn.preprocessing import StandardScaler\n",
    "\n",
    "balance[atributos] = StandardScaler().fit_transform(balance[atributos])\n",
    "#balance = pd.DataFrame(balance)\n",
    "\n",
    "balance\n"
   ]
  },
  {
   "cell_type": "markdown",
   "id": "a432d8e9",
   "metadata": {},
   "source": [
    "## Clusterizando a Balança\n",
    "##### Selecionando o X e y"
   ]
  },
  {
   "cell_type": "code",
   "execution_count": 12,
   "id": "c5741423",
   "metadata": {},
   "outputs": [
    {
     "data": {
      "text/plain": [
       "array(['B', 'L', 'R'], dtype=object)"
      ]
     },
     "execution_count": 12,
     "metadata": {},
     "output_type": "execute_result"
    }
   ],
   "source": [
    "# Selecionando o X e o y\n",
    "\n",
    "\n",
    "# X = jogo_da_velha[atributos]\n",
    "X = balance.iloc[:, 1:].values # Atributos do Data Frame do Pandas\n",
    "y = balance.iloc[:, :1].values # Classes do Data Frame do Pandas\n",
    "\n",
    "y = np.squeeze(y) # Converter em um unico Array quando usar o dataFrame do Pandas\n",
    "\n",
    "y_unique = np.unique(y)\n",
    "\n",
    "# Atualizando o eixo Y\n",
    "for i in range(len(y_unique)):\n",
    "    y = [i if y_unique[i] == e else e for e in y]\n",
    "y = np.array(y)\n",
    "\n",
    "y_unique # Valores unicos de classes"
   ]
  },
  {
   "cell_type": "markdown",
   "id": "eca6aefd",
   "metadata": {},
   "source": [
    "##### Exemplos de Algoritmos para cálculos de distâncias"
   ]
  },
  {
   "cell_type": "code",
   "execution_count": 13,
   "id": "b4795404",
   "metadata": {},
   "outputs": [
    {
     "name": "stdout",
     "output_type": "stream",
     "text": [
      "Euclidiano:  [[0.70710678]]\n",
      "Manhattan:  [[0.70710678]]\n",
      "Assimilaridade do Cosseno:  [[0.97072534]]\n"
     ]
    }
   ],
   "source": [
    "from sklearn.metrics.pairwise import pairwise_distances, cosine_similarity\n",
    "\n",
    "\n",
    "eucl = pairwise_distances(X[0].reshape(1, -1), X[1].reshape(1, -1), 'euclidean')\n",
    "\n",
    "manh = pairwise_distances(X[0].reshape(1, -1), X[1].reshape(1, -1), 'manhattan')\n",
    "\n",
    "ass_cos = cosine_similarity(X[0].reshape(1, -1), X[1].reshape(1, -1))\n",
    "\n",
    "print(\"Euclidiano: \", eucl)\n",
    "print(\"Manhattan: \", manh)\n",
    "print(\"Assimilaridade do Cosseno: \", ass_cos)"
   ]
  },
  {
   "cell_type": "markdown",
   "id": "a26f9250",
   "metadata": {},
   "source": [
    "##### PCA"
   ]
  },
  {
   "cell_type": "code",
   "execution_count": 14,
   "id": "350ef166",
   "metadata": {},
   "outputs": [
    {
     "name": "stdout",
     "output_type": "stream",
     "text": [
      "Projecting 4-dimensional data to 2D\n"
     ]
    },
    {
     "data": {
      "image/png": "[encoded data removed]",
      "text/plain": [
       "<Figure size 720x576 with 2 Axes>"
      ]
     },
     "metadata": {
      "needs_background": "light"
     },
     "output_type": "display_data"
    }
   ],
   "source": [
    "import matplotlib.pyplot as plt\n",
    "from sklearn.decomposition import PCA\n",
    "\n",
    "pca = PCA(n_components=2)\n",
    "X_reduced = pca.fit_transform(X)\n",
    "\n",
    "print('Projecting %d-dimensional data to 2D' % X.shape[1])\n",
    "\n",
    "def plot_g(pyplot, title, colors, n_classes):\n",
    "    pyplot.scatter(X_reduced[:, 0], X_reduced[:, 1], c=colors, \n",
    "             edgecolor='none', alpha=0.7, s=40,\n",
    "             cmap=plt.cm.get_cmap('nipy_spectral', n_classes)\n",
    "           )\n",
    "    pyplot.colorbar()\n",
    "    pyplot.title(title)\n",
    "\n",
    "plt.figure(figsize=(10, 8)) # Tamanho da Figura\n",
    "plot_g(plt, 'Projeção 2D do Dados em PCA', y, len(y_unique))\n",
    "plt.show()\n"
   ]
  },
  {
   "cell_type": "markdown",
   "id": "8eba0817",
   "metadata": {},
   "source": [
    "##### KMeans com a base original e com o PCA"
   ]
  },
  {
   "cell_type": "code",
   "execution_count": 15,
   "id": "7d1cd172",
   "metadata": {},
   "outputs": [],
   "source": [
    "from sklearn.cluster import KMeans\n",
    "\n",
    "kmeans = KMeans(n_clusters=len(y_unique)).fit(X)\n",
    "labels = kmeans.labels_\n",
    "\n",
    "kmeans_PCA = KMeans(n_clusters=len(y_unique)).fit(X_reduced)\n",
    "labels_PCA = kmeans_PCA.labels_\n"
   ]
  },
  {
   "cell_type": "markdown",
   "id": "ee61099d",
   "metadata": {},
   "source": [
    "##### Plotando os Gráficos "
   ]
  },
  {
   "cell_type": "code",
   "execution_count": 16,
   "id": "e39ef0cb",
   "metadata": {},
   "outputs": [
    {
     "data": {
      "image/png": "[encoded data removed]",
      "text/plain": [
       "<Figure size 1440x504 with 4 Axes>"
      ]
     },
     "metadata": {
      "needs_background": "light"
     },
     "output_type": "display_data"
    }
   ],
   "source": [
    "\n",
    "plt.figure(figsize=(10*2, 7))\n",
    "\n",
    "plt.subplot(1, 2, 1) # row 1, col 2 index 1\n",
    "plt.scatter(X_reduced[:, 0], X_reduced[:, 1], c=labels, \n",
    "            edgecolor='none', alpha=0.7, s=40,\n",
    "            cmap=plt.cm.get_cmap('nipy_spectral', len(y_unique)))\n",
    "plt.colorbar()\n",
    "plt.title('Projeção KMeans com X Original')\n",
    "\n",
    "plt.subplot(1, 2, 2) # row 1, col 2 index 1\n",
    "plt.scatter(X_reduced[:, 0], X_reduced[:, 1], c=labels_PCA, \n",
    "            edgecolor='none', alpha=0.7, s=40,\n",
    "            cmap=plt.cm.get_cmap('nipy_spectral', len(y_unique)))\n",
    "plt.colorbar()\n",
    "plt.title('Projeção KMeans com X PCA')\n",
    "\n",
    "plt.show()"
   ]
  },
  {
   "cell_type": "markdown",
   "id": "adf62954",
   "metadata": {},
   "source": [
    "##### Comparando o KMeans, KMeans PCA e o y Original"
   ]
  },
  {
   "cell_type": "code",
   "execution_count": 17,
   "id": "c51cfd31",
   "metadata": {},
   "outputs": [
    {
     "name": "stdout",
     "output_type": "stream",
     "text": [
      "Comparação: \n",
      "KMeans X:  {0: 250, 1: 175, 2: 200}\n",
      "KM.. PCA:  {0: 250, 1: 200, 2: 175}\n",
      "Original:  {0: 49, 1: 288, 2: 288}\n"
     ]
    }
   ],
   "source": [
    "print(\"Comparação: \")\n",
    "\n",
    "unique, counts = np.unique(labels, return_counts=True) # KMeans\n",
    "print(\"KMeans X: \" , dict(zip(unique, counts)))\n",
    "\n",
    "unique, counts = np.unique(labels_PCA, return_counts=True) # KMeans PCA\n",
    "print(\"KM.. PCA: \", dict(zip(unique, counts)))\n",
    "\n",
    "unique, counts = np.unique(y, return_counts=True) # Original\n",
    "print(\"Original: \", dict(zip(unique, counts)))\n"
   ]
  },
  {
   "cell_type": "code",
   "execution_count": null,
   "id": "7abdbcdf",
   "metadata": {},
   "outputs": [],
   "source": []
  }
 ],
 "metadata": {
  "kernelspec": {
   "display_name": "rp-2021_1-uast",
   "language": "python",
   "name": "rp-2021_1-uast"
  },
  "language_info": {
   "codemirror_mode": {
    "name": "ipython",
    "version": 3
   },
   "file_extension": ".py",
   "mimetype": "text/x-python",
   "name": "python",
   "nbconvert_exporter": "python",
   "pygments_lexer": "ipython3",
   "version": "3.8.5"
  }
 },
 "nbformat": 4,
 "nbformat_minor": 5
}
