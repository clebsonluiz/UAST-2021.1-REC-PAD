{
 "cells": [
  {
   "cell_type": "markdown",
   "id": "50776575",
   "metadata": {},
   "source": [
    "# Imports"
   ]
  },
  {
   "cell_type": "code",
   "execution_count": null,
   "id": "ab351647",
   "metadata": {},
   "outputs": [],
   "source": [
    "import pandas as pd \n",
    "import numpy as np"
   ]
  },
  {
   "cell_type": "markdown",
   "id": "2247e271",
   "metadata": {},
   "source": [
    "### Base com atributos categóricos"
   ]
  },
  {
   "cell_type": "code",
   "execution_count": null,
   "id": "13e3052c",
   "metadata": {},
   "outputs": [],
   "source": [
    "# Base tirada de https://archive.ics.uci.edu/ml/datasets/Mushroom\n",
    "\n",
    "\n",
    "\"\"\"\n",
    "Valores das colunas\n",
    "0. classes: edible=e, poisonous=p\n",
    "1. cap-shape: bell=b,conical=c,convex=x,flat=f, knobbed=k,sunken=s\n",
    "2. cap-surface: fibrous=f,grooves=g,scaly=y,smooth=s\n",
    "3. cap-color: brown=n,buff=b,cinnamon=c,gray=g,green=r, pink=p,purple=u,red=e,white=w,yellow=y\n",
    "4. bruises?: bruises=t,no=f\n",
    "5. odor: almond=a,anise=l,creosote=c,fishy=y,foul=f, musty=m,none=n,pungent=p,spicy=s\n",
    "6. gill-attachment: attached=a,descending=d,free=f,notched=n\n",
    "7. gill-spacing: close=c,crowded=w,distant=d\n",
    "8. gill-size: broad=b,narrow=n\n",
    "9. gill-color: black=k,brown=n,buff=b,chocolate=h,gray=g, green=r,orange=o,pink=p,purple=u,red=e, white=w,yellow=y\n",
    "10. stalk-shape: enlarging=e,tapering=t\n",
    "11. stalk-root: bulbous=b,club=c,cup=u,equal=e, rhizomorphs=z,rooted=r,missing=?\n",
    "12. stalk-surface-above-ring: fibrous=f,scaly=y,silky=k,smooth=s\n",
    "13. stalk-surface-below-ring: fibrous=f,scaly=y,silky=k,smooth=s\n",
    "14. stalk-color-above-ring: brown=n,buff=b,cinnamon=c,gray=g,orange=o, pink=p,red=e,white=w,yellow=y\n",
    "15. stalk-color-below-ring: brown=n,buff=b,cinnamon=c,gray=g,orange=o, pink=p,red=e,white=w,yellow=y\n",
    "16. veil-type: partial=p,universal=u\n",
    "17. veil-color: brown=n,orange=o,white=w,yellow=y\n",
    "18. ring-number: none=n,one=o,two=t\n",
    "19. ring-type: cobwebby=c,evanescent=e,flaring=f,large=l, none=n,pendant=p,sheathing=s,zone=z\n",
    "20. spore-print-color: black=k,brown=n,buff=b,chocolate=h,green=r, orange=o,purple=u,white=w,yellow=y\n",
    "21. population: abundant=a,clustered=c,numerous=n, scattered=s,several=v,solitary=y\n",
    "22. habitat: grasses=g,leaves=l,meadows=m,paths=p, urban=u,waste=w,woods=d\n",
    "\n",
    "\"\"\"\n",
    "\n",
    "\n",
    "mushroom = pd.read_csv('databases/agaricus-lepiota.csv',\n",
    "                      header=None, \n",
    "                      names=[\n",
    "                        \"classes\",\n",
    "                        \"cap-shape\",\n",
    "                        \"cap-surface\",\n",
    "                        \"cap-color\",\n",
    "                        \"bruises?\",\n",
    "                        \"odor\",\n",
    "                        \"gill-attachment\",\n",
    "                        \"gill-spacing\",\n",
    "                        \"gill-size\",\n",
    "                        \"gill-color\",\n",
    "                        \"stalk-shape\",\n",
    "                        \"stalk-root\",\n",
    "                        \"stalk-surface-above-ring\",\n",
    "                        \"stalk-surface-below-ring\",\n",
    "                        \"stalk-color-above-ring\",\n",
    "                        \"stalk-color-below-ring\",\n",
    "                        \"veil-type\",\n",
    "                        \"veil-color\",\n",
    "                        \"ring-number\",\n",
    "                        \"ring-type\",\n",
    "                        \"spore-print-color\",\n",
    "                        \"population\", \n",
    "                        \"habitat\"\n",
    "                      ])\n",
    "\n",
    "mushroom"
   ]
  },
  {
   "cell_type": "code",
   "execution_count": null,
   "id": "9911c871",
   "metadata": {},
   "outputs": [],
   "source": [
    "# mushroom.describe()"
   ]
  },
  {
   "cell_type": "code",
   "execution_count": null,
   "id": "8f1fab8e",
   "metadata": {},
   "outputs": [],
   "source": [
    "# mushroom.dtypes"
   ]
  },
  {
   "cell_type": "markdown",
   "id": "d673342f",
   "metadata": {},
   "source": [
    "## Pré-Processamento Inicial"
   ]
  },
  {
   "cell_type": "markdown",
   "id": "2a32c0b4",
   "metadata": {},
   "source": [
    "##### Tratando os Nulos da Coluna 'stalk-root'"
   ]
  },
  {
   "cell_type": "code",
   "execution_count": null,
   "id": "71a2f694",
   "metadata": {},
   "outputs": [],
   "source": [
    "# Sabemos que apenas a coluna stalk-root possui nulos, então iremos tratá-la especificamente\n",
    "\n",
    "mushroom = mushroom.replace({\"?\": np.NaN})\n",
    "\n",
    "\n",
    "mushroom['stalk-root'] = mushroom['stalk-root'].fillna(mushroom['stalk-root'].value_counts().index[0])\n",
    "\n",
    "mushroom['stalk-root']"
   ]
  },
  {
   "cell_type": "code",
   "execution_count": null,
   "id": "3497a34f",
   "metadata": {},
   "outputs": [],
   "source": [
    "atributos_categoricos = [\n",
    "                        \"cap-shape\",\n",
    "                        \"cap-surface\",\n",
    "                        \"cap-color\",\n",
    "                        \"bruises?\",\n",
    "                        \"odor\",\n",
    "                        \"gill-attachment\",\n",
    "                        \"gill-spacing\",\n",
    "                        \"gill-size\",\n",
    "                        \"gill-color\",\n",
    "                        \"stalk-shape\",\n",
    "                        \"stalk-root\",\n",
    "                        \"stalk-surface-above-ring\",\n",
    "                        \"stalk-surface-below-ring\",\n",
    "                        \"stalk-color-above-ring\",\n",
    "                        \"stalk-color-below-ring\",\n",
    "                        \"veil-type\",\n",
    "                        \"veil-color\",\n",
    "                        \"ring-number\",\n",
    "                        \"ring-type\",\n",
    "                        \"spore-print-color\",\n",
    "                        \"population\", \n",
    "                        \"habitat\"\n",
    "                      ]\n",
    "mushroom = pd.get_dummies(mushroom, columns=atributos_categoricos)\n",
    "mushroom"
   ]
  },
  {
   "cell_type": "code",
   "execution_count": null,
   "id": "6ebad927",
   "metadata": {
    "scrolled": false
   },
   "outputs": [],
   "source": [
    "# Usar o get dummies\n",
    "# from sklearn.preprocessing import OrdinalEncoder\n",
    "# atributos = [\n",
    "#                         \"cap-shape\",\n",
    "#                         \"cap-surface\",\n",
    "#                         \"cap-color\",\n",
    "#                         \"bruises?\",\n",
    "#                         \"odor\",\n",
    "#                         \"gill-attachment\",\n",
    "#                         \"gill-spacing\",\n",
    "#                         \"gill-size\",\n",
    "#                         \"gill-color\",\n",
    "#                         \"stalk-shape\",\n",
    "#                         \"stalk-root\",\n",
    "#                         \"stalk-surface-above-ring\",\n",
    "#                         \"stalk-surface-below-ring\",\n",
    "#                         \"stalk-color-above-ring\",\n",
    "#                         \"stalk-color-below-ring\",\n",
    "#                         \"veil-type\",\n",
    "#                         \"veil-color\",\n",
    "#                         \"ring-number\",\n",
    "#                         \"ring-type\",\n",
    "#                         \"spore-print-color\",\n",
    "#                         \"population\", \n",
    "#                         \"habitat\"\n",
    "#                       ]\n",
    "# enc = OrdinalEncoder()\n",
    "# enc.fit(mushroom[atributos])\n",
    "# mushroom[atributos] = enc.transform(mushroom[atributos])\n",
    "# mushroom"
   ]
  },
  {
   "cell_type": "code",
   "execution_count": null,
   "id": "8479d6cb",
   "metadata": {},
   "outputs": [],
   "source": [
    "from sklearn.preprocessing import StandardScaler\n",
    "\n",
    "atributos = mushroom.columns.values.tolist()\n",
    "# if not reordered:\n",
    "#     for i in range(2):\n",
    "#         e = atributos.pop(0)\n",
    "#         atributos.append(e)\n",
    "#     atributos\n",
    "\n",
    "# reordered = True\n",
    "# tae = tae.reindex(columns=atributos)\n",
    "# tae\n",
    "\n",
    "\n",
    "limiar = 1 # O limiar separa o index do que é atributo para o que é a classe\n",
    "atributos = mushroom.columns[limiar:] # seleciono apenas os atributos\n",
    "\n",
    "# Agora é possivel aplicar o StandardScaler apenas nos atributos\n",
    "\n",
    "mushroom[atributos] = StandardScaler().fit_transform(mushroom[atributos])\n",
    "mushroom[atributos]"
   ]
  },
  {
   "cell_type": "markdown",
   "id": "a432d8e9",
   "metadata": {},
   "source": [
    "## Aprendizagem supervisionada\n",
    "##### Selecionando o X e y"
   ]
  },
  {
   "cell_type": "code",
   "execution_count": null,
   "id": "c5741423",
   "metadata": {},
   "outputs": [],
   "source": [
    "# Selecionando o X e o y\n",
    "\n",
    "X = mushroom.iloc[:, limiar:] # Atributos do Data Frame do Pandas\n",
    "y = mushroom.iloc[:, :limiar] # Classes do Data Frame do Pandas\n",
    "\n",
    "y = np.squeeze(y) # Converter em um unico Array quando usar o dataFrame do Pandas\n",
    "\n",
    "y_unique = np.unique(y)\n",
    "\n",
    "mapa_cores = y.copy()\n",
    "\n",
    "for i in range(len(y_unique)):\n",
    "    mapa_cores = [i if y_unique[i] == e else e for e in mapa_cores]\n",
    "mapa_cores = np.array(mapa_cores)\n",
    "\n",
    "y_unique # Valores unicos de classes\n",
    "\n",
    "y_unique_n = np.unique(mapa_cores) # Original\n",
    "print(\"Equivalencia: \", dict(zip(y_unique, y_unique_n)))\n",
    "mapa_cores"
   ]
  },
  {
   "cell_type": "markdown",
   "id": "a26f9250",
   "metadata": {},
   "source": [
    "##### PCA"
   ]
  },
  {
   "cell_type": "code",
   "execution_count": null,
   "id": "350ef166",
   "metadata": {},
   "outputs": [],
   "source": [
    "import matplotlib.pyplot as plt\n",
    "from sklearn.decomposition import PCA\n",
    "\n",
    "pca = PCA(n_components=2)\n",
    "X_reduced = pca.fit_transform(X)\n",
    "\n",
    "print('Projecting %d-dimensional data to 2D' % X.shape[1])\n",
    "\n",
    "def plot_g(pyplot, title, colors, n_classes):\n",
    "    pyplot.scatter(X_reduced[:, 0], X_reduced[:, 1], c=colors, \n",
    "             edgecolor='none', alpha=0.7, s=40,\n",
    "             cmap=plt.cm.get_cmap('nipy_spectral', n_classes)\n",
    "           )\n",
    "    pyplot.colorbar()\n",
    "    pyplot.title(title)\n",
    "\n",
    "plt.figure(figsize=(10, 8)) # Tamanho da Figura\n",
    "plot_g(plt, 'Projeção 2D do Dados em PCA', mapa_cores, len(y_unique))\n",
    "plt.show()\n"
   ]
  },
  {
   "cell_type": "markdown",
   "id": "ee61099d",
   "metadata": {},
   "source": [
    "##### Plotando os Gráficos "
   ]
  },
  {
   "cell_type": "code",
   "execution_count": null,
   "id": "e39ef0cb",
   "metadata": {
    "scrolled": false
   },
   "outputs": [],
   "source": [
    "\n",
    "# plt.figure(figsize=(10*2, 7))\n",
    "\n",
    "# plt.subplot(1, 2, 1) # row 1, col 2 index 1\n",
    "# plt.scatter(X_reduced[:, 0], X_reduced[:, 1], c=labels, \n",
    "#             edgecolor='none', alpha=0.7, s=40,\n",
    "#             cmap=plt.cm.get_cmap('nipy_spectral', len(y_unique)))\n",
    "# plt.colorbar()\n",
    "# plt.title('Projeção KMeans com X Original')\n",
    "\n",
    "# plt.subplot(1, 2, 2) # row 1, col 2 index 1\n",
    "# plt.scatter(X_reduced[:, 0], X_reduced[:, 1], c=labels_PCA, \n",
    "#             edgecolor='none', alpha=0.7, s=40,\n",
    "#             cmap=plt.cm.get_cmap('nipy_spectral', len(y_unique)))\n",
    "# plt.colorbar()\n",
    "# plt.title('Projeção KMeans com X PCA')\n",
    "\n",
    "# plt.show()"
   ]
  },
  {
   "cell_type": "markdown",
   "id": "66f0474a",
   "metadata": {},
   "source": [
    "# Utilização do k-NN"
   ]
  },
  {
   "cell_type": "markdown",
   "id": "4166be29",
   "metadata": {},
   "source": [
    "##### Sem PCA"
   ]
  },
  {
   "cell_type": "code",
   "execution_count": null,
   "id": "eff94c39",
   "metadata": {},
   "outputs": [],
   "source": [
    "dataset = mushroom\n",
    "\n",
    "i_sort = np.random.randint(len(X) - 1) # Selecionando aleatóriamente um index de teste\n",
    "\n",
    "X_teste = X.iloc[i_sort] \n",
    "X = X.drop(i_sort)\n",
    "\n",
    "y_teste = y.iloc[i_sort]\n",
    "y = y.drop(i_sort)"
   ]
  },
  {
   "cell_type": "code",
   "execution_count": null,
   "id": "60f82481",
   "metadata": {},
   "outputs": [],
   "source": [
    "from sklearn.neighbors import KNeighborsClassifier\n",
    "\n",
    "knn = KNeighborsClassifier(n_neighbors=5)\n",
    "\n",
    "knn.fit(X, y)\n",
    "\n",
    "predict = knn.predict(np.array(X_teste).reshape(1,-1))\n",
    "\n",
    "print({\"Previsto:\": predict, \"Correto:\": y_teste})"
   ]
  },
  {
   "cell_type": "code",
   "execution_count": null,
   "id": "050490e2",
   "metadata": {},
   "outputs": [],
   "source": [
    "dist, vizinhos = knn.kneighbors(np.array(X_teste).reshape(1,-1))\n",
    "classes = []\n",
    "for v in vizinhos:\n",
    "    classes.append(dataset.iloc[:-1, limiar][v])\n",
    "classes"
   ]
  },
  {
   "cell_type": "markdown",
   "id": "ae6bad24",
   "metadata": {},
   "source": [
    "# Utilização do Naive Bayes"
   ]
  },
  {
   "cell_type": "markdown",
   "id": "80df16e1",
   "metadata": {},
   "source": [
    "##### Sem PCA"
   ]
  },
  {
   "cell_type": "code",
   "execution_count": null,
   "id": "a1c777dd",
   "metadata": {},
   "outputs": [],
   "source": [
    "from sklearn.naive_bayes import GaussianNB\n",
    "\n",
    "gnb = GaussianNB()\n",
    "gnb.fit(X, y)\n",
    "predict = gnb.predict(np.array(X_teste).reshape(1,-1))\n",
    "\n",
    "print({\"Previsto:\": predict, \"Correto:\": y_teste})"
   ]
  },
  {
   "cell_type": "code",
   "execution_count": null,
   "id": "e826c9d0",
   "metadata": {},
   "outputs": [],
   "source": [
    "# from sklearn.naive_bayes import MultinomialNB\n",
    "\n",
    "# mnb = MultinomialNB()\n",
    "# mnb.fit(X, y)\n",
    "# predict = mnb.predict(np.array(X_teste).reshape(1,-1))\n",
    "\n",
    "# print({\"Previsto:\": predict, \"Correto:\": y_teste})"
   ]
  },
  {
   "cell_type": "markdown",
   "id": "384440a3",
   "metadata": {},
   "source": [
    "# Utilização do SVM"
   ]
  },
  {
   "cell_type": "markdown",
   "id": "75662375",
   "metadata": {},
   "source": [
    "##### RBF"
   ]
  },
  {
   "cell_type": "code",
   "execution_count": null,
   "id": "dc0e9f9f",
   "metadata": {},
   "outputs": [],
   "source": [
    "from sklearn.svm import SVC\n",
    "\n",
    "svc = SVC(kernel='rbf')\n",
    "svc.fit(X, y)\n",
    "predict = svc.predict(np.array(X_teste).reshape(1,-1))\n",
    "\n",
    "print({\"Previsto:\": predict, \"Correto:\": y_teste})"
   ]
  },
  {
   "cell_type": "markdown",
   "id": "01759831",
   "metadata": {},
   "source": [
    "##### Linear"
   ]
  },
  {
   "cell_type": "code",
   "execution_count": null,
   "id": "4c799f78",
   "metadata": {},
   "outputs": [],
   "source": [
    "svc = SVC(kernel='linear')\n",
    "svc.fit(X, y)\n",
    "predict = svc.predict(np.array(X_teste).reshape(1,-1))\n",
    "\n",
    "print({\"Previsto:\": predict, \"Correto:\": y_teste})"
   ]
  },
  {
   "cell_type": "markdown",
   "id": "53192d0c",
   "metadata": {},
   "source": [
    "##### Polinomial"
   ]
  },
  {
   "cell_type": "code",
   "execution_count": null,
   "id": "dadb925b",
   "metadata": {},
   "outputs": [],
   "source": [
    "svc = SVC(kernel='poly')\n",
    "svc.fit(X, y)\n",
    "predict = svc.predict(np.array(X_teste).reshape(1,-1))\n",
    "\n",
    "print({\"Previsto:\": predict, \"Correto:\": y_teste})"
   ]
  },
  {
   "cell_type": "markdown",
   "id": "8e5a20eb",
   "metadata": {},
   "source": [
    "##### Sigmoid"
   ]
  },
  {
   "cell_type": "code",
   "execution_count": null,
   "id": "8261582d",
   "metadata": {},
   "outputs": [],
   "source": [
    "svc = SVC(kernel='sigmoid')\n",
    "svc.fit(X, y)\n",
    "predict = svc.predict(np.array(X_teste).reshape(1,-1))\n",
    "\n",
    "print({\"Previsto:\": predict, \"Correto:\": y_teste})"
   ]
  }
 ],
 "metadata": {
  "kernelspec": {
   "display_name": "rp-2021_1-uast",
   "language": "python",
   "name": "rp-2021_1-uast"
  },
  "language_info": {
   "codemirror_mode": {
    "name": "ipython",
    "version": 3
   },
   "file_extension": ".py",
   "mimetype": "text/x-python",
   "name": "python",
   "nbconvert_exporter": "python",
   "pygments_lexer": "ipython3",
   "version": "3.8.5"
  }
 },
 "nbformat": 4,
 "nbformat_minor": 5
}
