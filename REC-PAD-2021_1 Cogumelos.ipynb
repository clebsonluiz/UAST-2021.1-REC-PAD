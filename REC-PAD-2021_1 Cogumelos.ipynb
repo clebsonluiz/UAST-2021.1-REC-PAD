{
 "cells": [
  {
   "cell_type": "markdown",
   "id": "50776575",
   "metadata": {},
   "source": [
    "# Imports"
   ]
  },
  {
   "cell_type": "code",
   "execution_count": null,
   "id": "ab351647",
   "metadata": {},
   "outputs": [],
   "source": [
    "import pandas as pd \n",
    "import numpy as np"
   ]
  },
  {
   "cell_type": "markdown",
   "id": "2247e271",
   "metadata": {},
   "source": [
    "### Base com atributos categóricos"
   ]
  },
  {
   "cell_type": "code",
   "execution_count": null,
   "id": "13e3052c",
   "metadata": {},
   "outputs": [],
   "source": [
    "# Base tirada de https://archive.ics.uci.edu/ml/datasets/Mushroom\n",
    "\n",
    "\n",
    "\"\"\"\n",
    "Valores das colunas\n",
    "0. classes: edible=e, poisonous=p\n",
    "1. cap-shape: bell=b,conical=c,convex=x,flat=f, knobbed=k,sunken=s\n",
    "2. cap-surface: fibrous=f,grooves=g,scaly=y,smooth=s\n",
    "3. cap-color: brown=n,buff=b,cinnamon=c,gray=g,green=r, pink=p,purple=u,red=e,white=w,yellow=y\n",
    "4. bruises?: bruises=t,no=f\n",
    "5. odor: almond=a,anise=l,creosote=c,fishy=y,foul=f, musty=m,none=n,pungent=p,spicy=s\n",
    "6. gill-attachment: attached=a,descending=d,free=f,notched=n\n",
    "7. gill-spacing: close=c,crowded=w,distant=d\n",
    "8. gill-size: broad=b,narrow=n\n",
    "9. gill-color: black=k,brown=n,buff=b,chocolate=h,gray=g, green=r,orange=o,pink=p,purple=u,red=e, white=w,yellow=y\n",
    "10. stalk-shape: enlarging=e,tapering=t\n",
    "11. stalk-root: bulbous=b,club=c,cup=u,equal=e, rhizomorphs=z,rooted=r,missing=?\n",
    "12. stalk-surface-above-ring: fibrous=f,scaly=y,silky=k,smooth=s\n",
    "13. stalk-surface-below-ring: fibrous=f,scaly=y,silky=k,smooth=s\n",
    "14. stalk-color-above-ring: brown=n,buff=b,cinnamon=c,gray=g,orange=o, pink=p,red=e,white=w,yellow=y\n",
    "15. stalk-color-below-ring: brown=n,buff=b,cinnamon=c,gray=g,orange=o, pink=p,red=e,white=w,yellow=y\n",
    "16. veil-type: partial=p,universal=u\n",
    "17. veil-color: brown=n,orange=o,white=w,yellow=y\n",
    "18. ring-number: none=n,one=o,two=t\n",
    "19. ring-type: cobwebby=c,evanescent=e,flaring=f,large=l, none=n,pendant=p,sheathing=s,zone=z\n",
    "20. spore-print-color: black=k,brown=n,buff=b,chocolate=h,green=r, orange=o,purple=u,white=w,yellow=y\n",
    "21. population: abundant=a,clustered=c,numerous=n, scattered=s,several=v,solitary=y\n",
    "22. habitat: grasses=g,leaves=l,meadows=m,paths=p, urban=u,waste=w,woods=d\n",
    "\n",
    "\"\"\"\n",
    "\n",
    "\n",
    "mushroom = pd.read_csv('databases/agaricus-lepiota.csv',\n",
    "                      header=None, \n",
    "                      names=[\n",
    "                        \"classes\",\n",
    "                        \"cap-shape\",\n",
    "                        \"cap-surface\",\n",
    "                        \"cap-color\",\n",
    "                        \"bruises?\",\n",
    "                        \"odor\",\n",
    "                        \"gill-attachment\",\n",
    "                        \"gill-spacing\",\n",
    "                        \"gill-size\",\n",
    "                        \"gill-color\",\n",
    "                        \"stalk-shape\",\n",
    "                        \"stalk-root\",\n",
    "                        \"stalk-surface-above-ring\",\n",
    "                        \"stalk-surface-below-ring\",\n",
    "                        \"stalk-color-above-ring\",\n",
    "                        \"stalk-color-below-ring\",\n",
    "                        \"veil-type\",\n",
    "                        \"veil-color\",\n",
    "                        \"ring-number\",\n",
    "                        \"ring-type\",\n",
    "                        \"spore-print-color\",\n",
    "                        \"population\", \n",
    "                        \"habitat\"\n",
    "                      ])\n",
    "\n",
    "# Substituindo a string \n",
    "# a coluna 11, 'stalk-root' apresenta o missing value = ? \n",
    "# mushroom = mushroom.replace({\n",
    "\n",
    "# })\n",
    "# mushroom = mushroom.drop(columns=['0', '1'])\n",
    "mushroom"
   ]
  },
  {
   "cell_type": "code",
   "execution_count": null,
   "id": "9911c871",
   "metadata": {},
   "outputs": [],
   "source": [
    "mushroom.describe()"
   ]
  },
  {
   "cell_type": "code",
   "execution_count": null,
   "id": "8f1fab8e",
   "metadata": {},
   "outputs": [],
   "source": [
    "mushroom.dtypes"
   ]
  },
  {
   "cell_type": "markdown",
   "id": "d673342f",
   "metadata": {},
   "source": [
    "## Pré-Processamento Inicial"
   ]
  },
  {
   "cell_type": "markdown",
   "id": "2a32c0b4",
   "metadata": {},
   "source": [
    "##### Tratando os Nulos da Coluna 'stalk-root'"
   ]
  },
  {
   "cell_type": "code",
   "execution_count": null,
   "id": "71a2f694",
   "metadata": {},
   "outputs": [],
   "source": [
    "# Sabemos que apenas a coluna stalk-root possui nulos, então iremos tratá-la especificamente\n",
    "\n",
    "mushroom = mushroom.replace({\"?\": np.NaN})\n",
    "\n",
    "\n",
    "mushroom['stalk-root'] = mushroom['stalk-root'].fillna(mushroom['stalk-root'].value_counts().index[0])\n",
    "\n",
    "mushroom['stalk-root']"
   ]
  },
  {
   "cell_type": "code",
   "execution_count": null,
   "id": "3497a34f",
   "metadata": {},
   "outputs": [],
   "source": [
    "atributos_categoricos = [\n",
    "                        \"cap-shape\",\n",
    "                        \"cap-surface\",\n",
    "                        \"cap-color\",\n",
    "                        \"bruises?\",\n",
    "                        \"odor\",\n",
    "                        \"gill-attachment\",\n",
    "                        \"gill-spacing\",\n",
    "                        \"gill-size\",\n",
    "                        \"gill-color\",\n",
    "                        \"stalk-shape\",\n",
    "                        \"stalk-root\",\n",
    "                        \"stalk-surface-above-ring\",\n",
    "                        \"stalk-surface-below-ring\",\n",
    "                        \"stalk-color-above-ring\",\n",
    "                        \"stalk-color-below-ring\",\n",
    "                        \"veil-type\",\n",
    "                        \"veil-color\",\n",
    "                        \"ring-number\",\n",
    "                        \"ring-type\",\n",
    "                        \"spore-print-color\",\n",
    "                        \"population\", \n",
    "                        \"habitat\"\n",
    "                      ]\n",
    "mushroom = pd.get_dummies(mushroom, \n",
    "                         columns=atributos_categoricos)\n",
    "mushroom"
   ]
  },
  {
   "cell_type": "code",
   "execution_count": null,
   "id": "6ebad927",
   "metadata": {
    "scrolled": false
   },
   "outputs": [],
   "source": [
    "# Usar o get dummies\n",
    "# from sklearn.preprocessing import OrdinalEncoder\n",
    "# atributos = [\n",
    "#                         \"cap-shape\",\n",
    "#                         \"cap-surface\",\n",
    "#                         \"cap-color\",\n",
    "#                         \"bruises?\",\n",
    "#                         \"odor\",\n",
    "#                         \"gill-attachment\",\n",
    "#                         \"gill-spacing\",\n",
    "#                         \"gill-size\",\n",
    "#                         \"gill-color\",\n",
    "#                         \"stalk-shape\",\n",
    "#                         \"stalk-root\",\n",
    "#                         \"stalk-surface-above-ring\",\n",
    "#                         \"stalk-surface-below-ring\",\n",
    "#                         \"stalk-color-above-ring\",\n",
    "#                         \"stalk-color-below-ring\",\n",
    "#                         \"veil-type\",\n",
    "#                         \"veil-color\",\n",
    "#                         \"ring-number\",\n",
    "#                         \"ring-type\",\n",
    "#                         \"spore-print-color\",\n",
    "#                         \"population\", \n",
    "#                         \"habitat\"\n",
    "#                       ]\n",
    "# enc = OrdinalEncoder()\n",
    "# enc.fit(mushroom[atributos])\n",
    "# mushroom[atributos] = enc.transform(mushroom[atributos])\n",
    "# mushroom"
   ]
  },
  {
   "cell_type": "code",
   "execution_count": null,
   "id": "8479d6cb",
   "metadata": {},
   "outputs": [],
   "source": [
    "from sklearn.preprocessing import StandardScaler\n",
    "\n",
    "atributos = mushroom.columns.values.tolist()\n",
    "# if not reordered:\n",
    "#     for i in range(2):\n",
    "#         e = atributos.pop(0)\n",
    "#         atributos.append(e)\n",
    "#     atributos\n",
    "\n",
    "# reordered = True\n",
    "# tae = tae.reindex(columns=atributos)\n",
    "# tae\n",
    "\n",
    "\n",
    "limiar = 1 # O limiar separa o index do que é atributo para o que é a classe\n",
    "atributos = mushroom.columns[limiar:] # seleciono apenas os atributos\n",
    "\n",
    "# Agora é possivel aplicar o StandardScaler apenas nos atributos\n",
    "\n",
    "# mushroom[atributos] = StandardScaler().fit_transform(mushroom[atributos])\n",
    "# mushroom[atributos]\n",
    "atributos"
   ]
  },
  {
   "cell_type": "code",
   "execution_count": null,
   "id": "60958b82",
   "metadata": {},
   "outputs": [],
   "source": []
  },
  {
   "cell_type": "markdown",
   "id": "a432d8e9",
   "metadata": {},
   "source": [
    "## Clusterizando a base dos Cogumelos\n",
    "##### Selecionando o X e y"
   ]
  },
  {
   "cell_type": "code",
   "execution_count": null,
   "id": "c5741423",
   "metadata": {},
   "outputs": [],
   "source": [
    "# Selecionando o X e o y\n",
    "\n",
    "\n",
    "# X = mushroom[atributos]\n",
    "X = mushroom.iloc[:, limiar:].values # Atributos do Data Frame do Pandas\n",
    "y = mushroom.iloc[:, :limiar].values # Classes do Data Frame do Pandas\n",
    "\n",
    "y = np.squeeze(y) # Converter em um unico Array quando usar o dataFrame do Pandas\n",
    "\n",
    "y_unique = np.unique(y)\n",
    "\n",
    "# Atualizando o eixo Y\n",
    "for i in range(len(y_unique)):\n",
    "    y = [i if y_unique[i] == e else e for e in y]\n",
    "y = np.array(y)\n",
    "\n",
    "y_unique # Valores unicos de classes\n",
    "\n",
    "y_unique_n = np.unique(y) # Original\n",
    "print(\"Equivalencia: \", dict(zip(y_unique, y_unique_n)))"
   ]
  },
  {
   "cell_type": "markdown",
   "id": "eca6aefd",
   "metadata": {},
   "source": [
    "##### Exemplos de Algoritmos para cálculos de distâncias"
   ]
  },
  {
   "cell_type": "code",
   "execution_count": null,
   "id": "b4795404",
   "metadata": {},
   "outputs": [],
   "source": [
    "from sklearn.metrics.pairwise import pairwise_distances, cosine_similarity\n",
    "\n",
    "\n",
    "eucl = pairwise_distances(X[0].reshape(1, -1), X[1].reshape(1, -1), 'euclidean')\n",
    "\n",
    "manh = pairwise_distances(X[0].reshape(1, -1), X[1].reshape(1, -1), 'manhattan')\n",
    "\n",
    "ass_cos = cosine_similarity(X[0].reshape(1, -1), X[1].reshape(1, -1))\n",
    "\n",
    "print(\"Euclidiano: \", eucl)\n",
    "print(\"Manhattan: \", manh)\n",
    "print(\"Assimilaridade do Cosseno: \", ass_cos)"
   ]
  },
  {
   "cell_type": "code",
   "execution_count": null,
   "id": "0d234a97",
   "metadata": {},
   "outputs": [],
   "source": [
    "#pd.DataFrame(pairwise_distances(X, metric='euclidean'))\n"
   ]
  },
  {
   "cell_type": "markdown",
   "id": "a26f9250",
   "metadata": {},
   "source": [
    "##### PCA"
   ]
  },
  {
   "cell_type": "code",
   "execution_count": null,
   "id": "350ef166",
   "metadata": {},
   "outputs": [],
   "source": [
    "import matplotlib.pyplot as plt\n",
    "from sklearn.decomposition import PCA\n",
    "\n",
    "pca = PCA(n_components=2)\n",
    "X_reduced = pca.fit_transform(X)\n",
    "\n",
    "print('Projecting %d-dimensional data to 2D' % X.shape[1])\n",
    "\n",
    "def plot_g(pyplot, title, colors, n_classes):\n",
    "    pyplot.scatter(X_reduced[:, 0], X_reduced[:, 1], c=colors, \n",
    "             edgecolor='none', alpha=0.7, s=40,\n",
    "             cmap=plt.cm.get_cmap('nipy_spectral', n_classes)\n",
    "           )\n",
    "    pyplot.colorbar()\n",
    "    pyplot.title(title)\n",
    "\n",
    "plt.figure(figsize=(10, 8)) # Tamanho da Figura\n",
    "plot_g(plt, 'Projeção 2D do Dados em PCA', y, len(y_unique))\n",
    "plt.show()\n"
   ]
  },
  {
   "cell_type": "markdown",
   "id": "8eba0817",
   "metadata": {},
   "source": [
    "##### KMeans com a base original e com o PCA"
   ]
  },
  {
   "cell_type": "code",
   "execution_count": null,
   "id": "7d1cd172",
   "metadata": {},
   "outputs": [],
   "source": [
    "from sklearn.cluster import KMeans\n",
    "\n",
    "kmeans = KMeans(n_clusters=len(y_unique)).fit(X)\n",
    "labels = kmeans.labels_\n",
    "\n",
    "kmeans_PCA = KMeans(n_clusters=len(y_unique)).fit(X_reduced)\n",
    "labels_PCA = kmeans_PCA.labels_\n"
   ]
  },
  {
   "cell_type": "markdown",
   "id": "ee61099d",
   "metadata": {},
   "source": [
    "##### Plotando os Gráficos "
   ]
  },
  {
   "cell_type": "code",
   "execution_count": null,
   "id": "e39ef0cb",
   "metadata": {
    "scrolled": false
   },
   "outputs": [],
   "source": [
    "\n",
    "plt.figure(figsize=(10*2, 7))\n",
    "\n",
    "plt.subplot(1, 2, 1) # row 1, col 2 index 1\n",
    "plt.scatter(X_reduced[:, 0], X_reduced[:, 1], c=labels, \n",
    "            edgecolor='none', alpha=0.7, s=40,\n",
    "            cmap=plt.cm.get_cmap('nipy_spectral', len(y_unique)))\n",
    "plt.colorbar()\n",
    "plt.title('Projeção KMeans com X Original')\n",
    "\n",
    "plt.subplot(1, 2, 2) # row 1, col 2 index 1\n",
    "plt.scatter(X_reduced[:, 0], X_reduced[:, 1], c=labels_PCA, \n",
    "            edgecolor='none', alpha=0.7, s=40,\n",
    "            cmap=plt.cm.get_cmap('nipy_spectral', len(y_unique)))\n",
    "plt.colorbar()\n",
    "plt.title('Projeção KMeans com X PCA')\n",
    "\n",
    "plt.show()"
   ]
  },
  {
   "cell_type": "markdown",
   "id": "adf62954",
   "metadata": {},
   "source": [
    "##### Comparando o KMeans, KMeans PCA e o y Original"
   ]
  },
  {
   "cell_type": "code",
   "execution_count": null,
   "id": "c51cfd31",
   "metadata": {},
   "outputs": [],
   "source": [
    "print(\"Comparação: \")\n",
    "\n",
    "unique, counts = np.unique(labels, return_counts=True) # KMeans\n",
    "print(\"KMeans X: \" , dict(zip(unique, counts)))\n",
    "\n",
    "unique, counts = np.unique(labels_PCA, return_counts=True) # KMeans PCA\n",
    "print(\"KM.. PCA: \", dict(zip(unique, counts)))\n",
    "\n",
    "unique, counts = np.unique(y, return_counts=True) # Original\n",
    "print(\"Original: \", dict(zip(unique, counts)))\n"
   ]
  },
  {
   "cell_type": "markdown",
   "id": "174c23d1",
   "metadata": {},
   "source": [
    "##### Usando as metricas de avaliação para comparar os resultados com e sem o PCA"
   ]
  },
  {
   "cell_type": "markdown",
   "id": "f9408d1f",
   "metadata": {},
   "source": [
    "##### Sem PCA"
   ]
  },
  {
   "cell_type": "code",
   "execution_count": null,
   "id": "3d67ac4a",
   "metadata": {},
   "outputs": [],
   "source": [
    "from sklearn import metrics\n",
    "from sklearn.metrics.cluster import v_measure_score\n",
    "\n",
    "ari = metrics.adjusted_rand_score(y, labels)\n",
    "silh = metrics.silhouette_score(X, labels, metric='euclidean')\n",
    "ami = metrics.adjusted_mutual_info_score(y, labels)\n",
    "vm = v_measure_score(y, labels)"
   ]
  },
  {
   "cell_type": "markdown",
   "id": "e8933b68",
   "metadata": {},
   "source": [
    "##### Com PCA"
   ]
  },
  {
   "cell_type": "code",
   "execution_count": null,
   "id": "cca833fb",
   "metadata": {},
   "outputs": [],
   "source": [
    "ari_pca = metrics.adjusted_rand_score(y, labels_PCA)\n",
    "silh_pca = metrics.silhouette_score(X_reduced, labels_PCA, metric='euclidean')\n",
    "ami_pca = metrics.adjusted_mutual_info_score(y, labels_PCA)\n",
    "vm_pca = v_measure_score(y, labels_PCA)"
   ]
  },
  {
   "cell_type": "markdown",
   "id": "a186ac47",
   "metadata": {},
   "source": [
    "##### Tabela de comparação dos resultados"
   ]
  },
  {
   "cell_type": "code",
   "execution_count": null,
   "id": "b36e500b",
   "metadata": {},
   "outputs": [],
   "source": [
    "data = {\n",
    "# \"Base de dados\": [], \n",
    "\"Pré-processamento\":['Com PCA', 'Sem PCA'], \n",
    "\"SILHUETA\":[silh_pca, silh], \n",
    "\"ARI\": [ari_pca, ari], \n",
    "\"AMI\": [ami_pca, ami], \n",
    "\"V-M\":[vm_pca, vm]\n",
    "}\n",
    "\n",
    "pd.DataFrame(data)"
   ]
  },
  {
   "cell_type": "code",
   "execution_count": null,
   "id": "5e95109b",
   "metadata": {},
   "outputs": [],
   "source": []
  }
 ],
 "metadata": {
  "kernelspec": {
   "display_name": "rp-2021_1-uast",
   "language": "python",
   "name": "rp-2021_1-uast"
  },
  "language_info": {
   "codemirror_mode": {
    "name": "ipython",
    "version": 3
   },
   "file_extension": ".py",
   "mimetype": "text/x-python",
   "name": "python",
   "nbconvert_exporter": "python",
   "pygments_lexer": "ipython3",
   "version": "3.8.5"
  }
 },
 "nbformat": 4,
 "nbformat_minor": 5
}
