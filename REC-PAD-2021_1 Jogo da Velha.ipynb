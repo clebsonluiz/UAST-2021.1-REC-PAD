{
 "cells": [
  {
   "cell_type": "markdown",
   "id": "50776575",
   "metadata": {},
   "source": [
    "# Imports"
   ]
  },
  {
   "cell_type": "code",
   "execution_count": null,
   "id": "ab351647",
   "metadata": {},
   "outputs": [],
   "source": [
    "import pandas as pd \n",
    "import numpy as np"
   ]
  },
  {
   "cell_type": "markdown",
   "id": "2247e271",
   "metadata": {},
   "source": [
    "### Base com atributos categóricos"
   ]
  },
  {
   "cell_type": "code",
   "execution_count": null,
   "id": "13e3052c",
   "metadata": {},
   "outputs": [],
   "source": [
    "# Base tirada de https://archive.ics.uci.edu/ml/datasets/Tic-Tac-Toe+Endgame\n",
    "\n",
    "# Vitória para quando X for o primeiro\n",
    "\n",
    "jogo_da_velha = pd.read_csv('databases/tic-tac-toe.csv',\n",
    "                      header=None, \n",
    "                      names=[\n",
    "                          \"top-left\",\n",
    "                          \"top-middle\",\n",
    "                          \"top-right\",\n",
    "                          \"middle-left\",\n",
    "                          \"middle-middle\",\n",
    "                          \"middle-right\",\n",
    "                          \"bottom-left\",\n",
    "                          \"bottom-middle\", \n",
    "                          \"bottom-right\",\n",
    "                          \"Class\"\n",
    "                      ])\n",
    "\n",
    "jogo_da_velha"
   ]
  },
  {
   "cell_type": "code",
   "execution_count": null,
   "id": "9911c871",
   "metadata": {},
   "outputs": [],
   "source": [
    "# jogo_da_velha.describe()"
   ]
  },
  {
   "cell_type": "code",
   "execution_count": null,
   "id": "8f1fab8e",
   "metadata": {},
   "outputs": [],
   "source": [
    "# jogo_da_velha.dtypes"
   ]
  },
  {
   "cell_type": "markdown",
   "id": "d0e94ce4",
   "metadata": {},
   "source": [
    "## Pré-Processamento Inicial"
   ]
  },
  {
   "cell_type": "code",
   "execution_count": null,
   "id": "71a2f694",
   "metadata": {},
   "outputs": [],
   "source": [
    "atributos_categoricos = [\n",
    "    \"top-left\",\n",
    "    \"top-middle\",\n",
    "    \"top-right\",\n",
    "    \"middle-left\",\n",
    "    \"middle-middle\",\n",
    "    \"middle-right\",\n",
    "    \"bottom-left\",\n",
    "    \"bottom-middle\", \n",
    "    \"bottom-right\"\n",
    "    ]\n",
    "\n",
    "jogo_da_velha = pd.get_dummies(jogo_da_velha, \n",
    "                         columns=atributos_categoricos)\n",
    "jogo_da_velha"
   ]
  },
  {
   "cell_type": "code",
   "execution_count": null,
   "id": "6ebad927",
   "metadata": {
    "scrolled": false
   },
   "outputs": [],
   "source": [
    "# from sklearn.preprocessing import OrdinalEncoder\n",
    "# atributos = [\n",
    "#                           \"top-left\",\n",
    "#                           \"top-middle\",\n",
    "#                           \"top-right\",\n",
    "#                           \"middle-left\",\n",
    "#                           \"middle-middle\",\n",
    "#                           \"middle-right\",\n",
    "#                           \"bottom-left\",\n",
    "#                           \"bottom-middle\", \n",
    "#                           \"bottom-right\"\n",
    "#                       ]\n",
    "# enc = OrdinalEncoder()\n",
    "# enc.fit(jogo_da_velha[atributos])\n",
    "# jogo_da_velha[atributos] = enc.transform(jogo_da_velha[atributos])\n",
    "# jogo_da_velha = jogo_da_velha.replace({\"positive\": \"V\", \"negative\": \"F\"})\n",
    "# jogo_da_velha"
   ]
  },
  {
   "cell_type": "code",
   "execution_count": null,
   "id": "8479d6cb",
   "metadata": {},
   "outputs": [],
   "source": [
    "from sklearn.preprocessing import StandardScaler\n",
    "\n",
    "# jogo_da_velha[atributos] = StandardScaler().fit_transform(jogo_da_velha[atributos])\n",
    "# #jogo_da_velha = pd.DataFrame(jogo_da_velha)\n",
    "\n",
    "# jogo_da_velha\n",
    "\n",
    "\n",
    "atributos = jogo_da_velha.columns.values.tolist()\n",
    "# if not reordered:\n",
    "#     for i in range(2):\n",
    "#         e = atributos.pop(0)\n",
    "#         atributos.append(e)\n",
    "#     atributos\n",
    "\n",
    "# reordered = True\n",
    "# jogo_da_velha = jogo_da_velha.reindex(columns=atributos)\n",
    "# jogo_da_velha\n",
    "\n",
    "\n",
    "limiar = 1 # O limiar separa o index do que é atributo para o que é a classe\n",
    "atributos = jogo_da_velha.columns[limiar:] # seleciono apenas os atributos\n",
    "\n",
    "# Agora é possivel aplicar o StandardScaler apenas nos atributos\n",
    "\n",
    "jogo_da_velha[atributos] = StandardScaler().fit_transform(jogo_da_velha[atributos])\n",
    "jogo_da_velha[atributos]"
   ]
  },
  {
   "cell_type": "code",
   "execution_count": null,
   "id": "f07f5f4f",
   "metadata": {},
   "outputs": [],
   "source": []
  },
  {
   "cell_type": "markdown",
   "id": "a432d8e9",
   "metadata": {},
   "source": [
    "## Aprendizagem supervisionada\n",
    "##### Selecionando o X e y"
   ]
  },
  {
   "cell_type": "code",
   "execution_count": null,
   "id": "c5741423",
   "metadata": {},
   "outputs": [],
   "source": [
    "# Selecionando o X e o y\n",
    "\n",
    "\n",
    "# X = jogo_da_velha[atributos]\n",
    "X = jogo_da_velha.iloc[:, limiar:] # Atributos do Data Frame do Pandas\n",
    "y = jogo_da_velha.iloc[:, :limiar] # Classes do Data Frame do Pandas\n",
    "\n",
    "y = np.squeeze(y) # Converter em um unico Array quando usar o dataFrame do Pandas\n",
    "\n",
    "y_unique = np.unique(y)\n",
    "\n",
    "from sklearn.preprocessing import LabelEncoder # Criando um mapa de cores para mapear o gráfico\n",
    "\n",
    "lb = LabelEncoder()\n",
    "lb.fit(y)\n",
    "mapa_cores = lb.transform(y)\n",
    "\n",
    "y_unique # Valores unicos de classes"
   ]
  },
  {
   "cell_type": "markdown",
   "id": "a26f9250",
   "metadata": {},
   "source": [
    "##### PCA"
   ]
  },
  {
   "cell_type": "code",
   "execution_count": null,
   "id": "350ef166",
   "metadata": {},
   "outputs": [],
   "source": [
    "import matplotlib.pyplot as plt\n",
    "from sklearn.decomposition import PCA\n",
    "\n",
    "pca = PCA(n_components=2)\n",
    "X_reduced = pca.fit_transform(X)\n",
    "\n",
    "print('Projecting %d-dimensional data to 2D' % X.shape[1])\n",
    "\n",
    "def plot_g(pyplot, title, colors, n_classes):\n",
    "    pyplot.scatter(X_reduced[:, 0], X_reduced[:, 1], c=colors, \n",
    "             edgecolor='none', alpha=0.7, s=40,\n",
    "             cmap=plt.cm.get_cmap('nipy_spectral', n_classes)\n",
    "           )\n",
    "    pyplot.colorbar()\n",
    "    pyplot.title(title)\n",
    "\n",
    "plt.figure(figsize=(10, 8)) # Tamanho da Figura\n",
    "plot_g(plt, 'Projeção 2D do Dados em PCA', mapa_cores, len(y_unique))\n",
    "plt.show()\n"
   ]
  },
  {
   "cell_type": "markdown",
   "id": "ee61099d",
   "metadata": {},
   "source": [
    "##### Plotando os Gráficos "
   ]
  },
  {
   "cell_type": "code",
   "execution_count": null,
   "id": "e39ef0cb",
   "metadata": {
    "scrolled": false
   },
   "outputs": [],
   "source": [
    "\n",
    "# plt.figure(figsize=(10*2, 7))\n",
    "\n",
    "# plt.subplot(1, 2, 1) # row 1, col 2 index 1\n",
    "# plt.scatter(X_reduced[:, 0], X_reduced[:, 1], c=labels, \n",
    "#             edgecolor='none', alpha=0.7, s=40,\n",
    "#             cmap=plt.cm.get_cmap('nipy_spectral', len(y_unique)))\n",
    "# plt.colorbar()\n",
    "# plt.title('Projeção KMeans com X Original')\n",
    "\n",
    "# plt.subplot(1, 2, 2) # row 1, col 2 index 1\n",
    "# plt.scatter(X_reduced[:, 0], X_reduced[:, 1], c=labels_PCA, \n",
    "#             edgecolor='none', alpha=0.7, s=40,\n",
    "#             cmap=plt.cm.get_cmap('nipy_spectral', len(y_unique)))\n",
    "# plt.colorbar()\n",
    "# plt.title('Projeção KMeans com X PCA')\n",
    "\n",
    "# plt.show()"
   ]
  },
  {
   "cell_type": "markdown",
   "id": "66f0474a",
   "metadata": {},
   "source": [
    "# Utilização do k-NN"
   ]
  },
  {
   "cell_type": "markdown",
   "id": "4166be29",
   "metadata": {},
   "source": [
    "##### Sem PCA"
   ]
  },
  {
   "cell_type": "code",
   "execution_count": null,
   "id": "eff94c39",
   "metadata": {},
   "outputs": [],
   "source": [
    "dataset = jogo_da_velha\n",
    "\n",
    "i_sort = np.random.randint(len(X) - 1) # Selecionando aleatóriamente um index de teste\n",
    "\n",
    "X_teste = X.iloc[i_sort] \n",
    "X = X.drop(i_sort)\n",
    "\n",
    "y_teste = y.iloc[i_sort]\n",
    "y = y.drop(i_sort)"
   ]
  },
  {
   "cell_type": "code",
   "execution_count": null,
   "id": "60f82481",
   "metadata": {},
   "outputs": [],
   "source": [
    "from sklearn.neighbors import KNeighborsClassifier\n",
    "\n",
    "knn = KNeighborsClassifier(n_neighbors=5)\n",
    "\n",
    "knn.fit(X, y)\n",
    "\n",
    "predict = knn.predict(np.array(X_teste).reshape(1,-1))\n",
    "\n",
    "print({\"Previsto:\": predict, \"Correto:\": y_teste})"
   ]
  },
  {
   "cell_type": "code",
   "execution_count": null,
   "id": "050490e2",
   "metadata": {},
   "outputs": [],
   "source": [
    "dist, vizinhos = knn.kneighbors(np.array(X_teste).reshape(1,-1))\n",
    "classes = []\n",
    "for v in vizinhos:\n",
    "    classes.append(dataset.iloc[:-1, limiar][v])\n",
    "classes"
   ]
  },
  {
   "cell_type": "code",
   "execution_count": null,
   "id": "f8f4efa1",
   "metadata": {},
   "outputs": [],
   "source": []
  }
 ],
 "metadata": {
  "kernelspec": {
   "display_name": "rp-2021_1-uast",
   "language": "python",
   "name": "rp-2021_1-uast"
  },
  "language_info": {
   "codemirror_mode": {
    "name": "ipython",
    "version": 3
   },
   "file_extension": ".py",
   "mimetype": "text/x-python",
   "name": "python",
   "nbconvert_exporter": "python",
   "pygments_lexer": "ipython3",
   "version": "3.8.5"
  }
 },
 "nbformat": 4,
 "nbformat_minor": 5
}
